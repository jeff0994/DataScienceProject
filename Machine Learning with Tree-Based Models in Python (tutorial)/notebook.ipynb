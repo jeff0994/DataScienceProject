{
 "cells": [
  {
   "cell_type": "markdown",
   "metadata": {},
   "source": [
    "### Machine Learning with Tree-Based Models in Python"
   ]
  },
  {
   "cell_type": "markdown",
   "metadata": {},
   "source": [
    "## Chapters\n",
    "\n",
    "* Classification and Regression Trees\n",
    "* The Bias-Variance Tradeoff\n",
    "* Bagging and Random Forests\n",
    "* Boosting\n",
    "* Model Tuning\n"
   ]
  },
  {
   "cell_type": "markdown",
   "metadata": {},
   "source": [
    "### Datasets\n",
    "\n",
    "* [Wisconsin Breast Cancer](https://www.kaggle.com/uciml/breast-cancer-wisconsin-data)\n",
    "* [Auto-mpg](https://www.kaggle.com/uciml/autompg-dataset)\n",
    "* [Bike Sharing Demand](https://www.kaggle.com/c/bike-sharing-demand)\n",
    "* [Indian Liver Patient](https://www.kaggle.com/jeevannagaraj/indian-liver-patient-dataset)"
   ]
  },
  {
   "cell_type": "code",
   "execution_count": 1,
   "metadata": {},
   "outputs": [],
   "source": [
    "# Packages\n",
    "import pandas as pd # Import Pandas: a library for tabular data\n",
    "import numpy as np # Import NumPy: a library for numerical operations\n",
    "\n",
    "#Import plotting libraries: matplotlib and seaborn\n",
    "import seaborn as sns\n",
    "from matplotlib import pyplot as plt\n",
    "plt.style.use('tableau-colorblind10') #Set ggplot for graphs\n",
    "\n",
    "#Import request library for downloand the data\n",
    "import requests\n",
    "\n",
    "%matplotlib inline"
   ]
  },
  {
   "cell_type": "code",
   "execution_count": 2,
   "metadata": {},
   "outputs": [
    {
     "name": "stdout",
     "output_type": "stream",
     "text": [
      "['Solarize_Light2', '_classic_test_patch', 'bmh', 'classic', 'dark_background', 'fast', 'fivethirtyeight', 'ggplot', 'grayscale', 'seaborn', 'seaborn-bright', 'seaborn-colorblind', 'seaborn-dark', 'seaborn-dark-palette', 'seaborn-darkgrid', 'seaborn-deep', 'seaborn-muted', 'seaborn-notebook', 'seaborn-paper', 'seaborn-pastel', 'seaborn-poster', 'seaborn-talk', 'seaborn-ticks', 'seaborn-white', 'seaborn-whitegrid', 'tableau-colorblind10']\n"
     ]
    }
   ],
   "source": [
    "print(plt.style.available)"
   ]
  },
  {
   "cell_type": "code",
   "execution_count": null,
   "metadata": {},
   "outputs": [],
   "source": [
    "#In case that you dont have the folder, run this.\n",
    "# Python program to explain os.mkdir() method  \n",
    "    \n",
    "# importing os module  \n",
    "import os \n",
    "  \n",
    "# Directory \n",
    "directory = \"datasets\"\n",
    "  \n",
    "# Parent Directory path \n",
    "parent_dir = \".\"\n",
    "  \n",
    "# Path \n",
    "path = os.path.join(parent_dir, directory) \n",
    "  \n",
    "# Create the directory \n",
    "# 'datasets' in \n",
    "# 'current directory' \n",
    "os.mkdir(path) \n",
    "print(\"Directory '%s' created\" %directory) "
   ]
  },
  {
   "cell_type": "code",
   "execution_count": 3,
   "metadata": {},
   "outputs": [
    {
     "name": "stdout",
     "output_type": "stream",
     "text": [
      "C:\\Users\\DELL USER\\GithubProjects\\DataScienceProjects\\Machine Learning with Tree-Based Models in Python (tutorial)\\datasets\n"
     ]
    }
   ],
   "source": [
    "cd ./datasets"
   ]
  },
  {
   "cell_type": "markdown",
   "metadata": {},
   "source": [
    "#### Obtaining datasets"
   ]
  },
  {
   "cell_type": "code",
   "execution_count": 4,
   "metadata": {},
   "outputs": [],
   "source": [
    "def obtain_dataset(url):\n",
    "    \"\"\"Obtain a dataset from a url and put it on the current folder.\n",
    "    \n",
    "       Args url (String): url of the dataset\n",
    "       \n",
    "       Returns: Name of dataset downloaded\n",
    "    \"\"\"\n",
    "\n",
    "    res = requests.get(url, allow_redirects=True)\n",
    "    name = url.split('/')[-1]\n",
    "    with open(name,'wb') as file:\n",
    "        file.write(res.content)\n",
    "    return  name "
   ]
  },
  {
   "cell_type": "code",
   "execution_count": 5,
   "metadata": {},
   "outputs": [],
   "source": [
    "# Breast Cancer\n",
    "url = 'https://assets.datacamp.com/production/repositories/1796/datasets/0eb6987cb9633e4d6aa6cfd11e00993d2387caa4/wbc.csv'\n",
    "\n",
    "name_cancer = obtain_dataset(url)\n",
    "\n",
    "df_cancer = pd.read_csv(name_cancer)"
   ]
  },
  {
   "cell_type": "code",
   "execution_count": 6,
   "metadata": {},
   "outputs": [],
   "source": [
    "# Auto-mpg\n",
    "url = 'https://assets.datacamp.com/production/repositories/1796/datasets/3781d588cf7b04b1e376c7e9dda489b3e6c7465b/auto.csv'\n",
    "name_auto = obtain_dataset(url)\n",
    "df_auto = pd.read_csv(name_auto)\n",
    "\n",
    "# Bike Sharing Demand\n",
    "url = \"https://assets.datacamp.com/production/repositories/1796/datasets/594538f54a854b322d6e4c8031f3f31bc522d3e5/bikes.csv\"\n",
    "name_bikes = obtain_dataset(url)\n",
    "df_bikes = pd.read_csv(name_bikes)\n"
   ]
  },
  {
   "cell_type": "code",
   "execution_count": 7,
   "metadata": {},
   "outputs": [
    {
     "name": "stdout",
     "output_type": "stream",
     "text": [
      "C:\\Users\\DELL USER\\GithubProjects\\DataScienceProjects\\Machine Learning with Tree-Based Models in Python (tutorial)\n"
     ]
    }
   ],
   "source": [
    "cd .."
   ]
  },
  {
   "cell_type": "markdown",
   "metadata": {},
   "source": [
    "### Analyzing the Wisconsin Breast Cancer dataset\n",
    "\n",
    "__Objetive__ Predict  is a tumor es benign or malignat using only Two features"
   ]
  },
  {
   "cell_type": "code",
   "execution_count": 58,
   "metadata": {},
   "outputs": [
    {
     "data": {
      "text/html": [
       "<div>\n",
       "<style scoped>\n",
       "    .dataframe tbody tr th:only-of-type {\n",
       "        vertical-align: middle;\n",
       "    }\n",
       "\n",
       "    .dataframe tbody tr th {\n",
       "        vertical-align: top;\n",
       "    }\n",
       "\n",
       "    .dataframe thead th {\n",
       "        text-align: right;\n",
       "    }\n",
       "</style>\n",
       "<table border=\"1\" class=\"dataframe\">\n",
       "  <thead>\n",
       "    <tr style=\"text-align: right;\">\n",
       "      <th></th>\n",
       "      <th>id</th>\n",
       "      <th>diagnosis</th>\n",
       "      <th>radius_mean</th>\n",
       "      <th>texture_mean</th>\n",
       "      <th>perimeter_mean</th>\n",
       "      <th>area_mean</th>\n",
       "      <th>smoothness_mean</th>\n",
       "      <th>compactness_mean</th>\n",
       "      <th>concavity_mean</th>\n",
       "      <th>concave points_mean</th>\n",
       "      <th>...</th>\n",
       "      <th>texture_worst</th>\n",
       "      <th>perimeter_worst</th>\n",
       "      <th>area_worst</th>\n",
       "      <th>smoothness_worst</th>\n",
       "      <th>compactness_worst</th>\n",
       "      <th>concavity_worst</th>\n",
       "      <th>concave points_worst</th>\n",
       "      <th>symmetry_worst</th>\n",
       "      <th>fractal_dimension_worst</th>\n",
       "      <th>Unnamed: 32</th>\n",
       "    </tr>\n",
       "  </thead>\n",
       "  <tbody>\n",
       "    <tr>\n",
       "      <th>0</th>\n",
       "      <td>842302</td>\n",
       "      <td>M</td>\n",
       "      <td>17.99</td>\n",
       "      <td>10.38</td>\n",
       "      <td>122.80</td>\n",
       "      <td>1001.0</td>\n",
       "      <td>0.11840</td>\n",
       "      <td>0.27760</td>\n",
       "      <td>0.3001</td>\n",
       "      <td>0.14710</td>\n",
       "      <td>...</td>\n",
       "      <td>17.33</td>\n",
       "      <td>184.60</td>\n",
       "      <td>2019.0</td>\n",
       "      <td>0.1622</td>\n",
       "      <td>0.6656</td>\n",
       "      <td>0.7119</td>\n",
       "      <td>0.2654</td>\n",
       "      <td>0.4601</td>\n",
       "      <td>0.11890</td>\n",
       "      <td>NaN</td>\n",
       "    </tr>\n",
       "    <tr>\n",
       "      <th>1</th>\n",
       "      <td>842517</td>\n",
       "      <td>M</td>\n",
       "      <td>20.57</td>\n",
       "      <td>17.77</td>\n",
       "      <td>132.90</td>\n",
       "      <td>1326.0</td>\n",
       "      <td>0.08474</td>\n",
       "      <td>0.07864</td>\n",
       "      <td>0.0869</td>\n",
       "      <td>0.07017</td>\n",
       "      <td>...</td>\n",
       "      <td>23.41</td>\n",
       "      <td>158.80</td>\n",
       "      <td>1956.0</td>\n",
       "      <td>0.1238</td>\n",
       "      <td>0.1866</td>\n",
       "      <td>0.2416</td>\n",
       "      <td>0.1860</td>\n",
       "      <td>0.2750</td>\n",
       "      <td>0.08902</td>\n",
       "      <td>NaN</td>\n",
       "    </tr>\n",
       "    <tr>\n",
       "      <th>2</th>\n",
       "      <td>84300903</td>\n",
       "      <td>M</td>\n",
       "      <td>19.69</td>\n",
       "      <td>21.25</td>\n",
       "      <td>130.00</td>\n",
       "      <td>1203.0</td>\n",
       "      <td>0.10960</td>\n",
       "      <td>0.15990</td>\n",
       "      <td>0.1974</td>\n",
       "      <td>0.12790</td>\n",
       "      <td>...</td>\n",
       "      <td>25.53</td>\n",
       "      <td>152.50</td>\n",
       "      <td>1709.0</td>\n",
       "      <td>0.1444</td>\n",
       "      <td>0.4245</td>\n",
       "      <td>0.4504</td>\n",
       "      <td>0.2430</td>\n",
       "      <td>0.3613</td>\n",
       "      <td>0.08758</td>\n",
       "      <td>NaN</td>\n",
       "    </tr>\n",
       "    <tr>\n",
       "      <th>3</th>\n",
       "      <td>84348301</td>\n",
       "      <td>M</td>\n",
       "      <td>11.42</td>\n",
       "      <td>20.38</td>\n",
       "      <td>77.58</td>\n",
       "      <td>386.1</td>\n",
       "      <td>0.14250</td>\n",
       "      <td>0.28390</td>\n",
       "      <td>0.2414</td>\n",
       "      <td>0.10520</td>\n",
       "      <td>...</td>\n",
       "      <td>26.50</td>\n",
       "      <td>98.87</td>\n",
       "      <td>567.7</td>\n",
       "      <td>0.2098</td>\n",
       "      <td>0.8663</td>\n",
       "      <td>0.6869</td>\n",
       "      <td>0.2575</td>\n",
       "      <td>0.6638</td>\n",
       "      <td>0.17300</td>\n",
       "      <td>NaN</td>\n",
       "    </tr>\n",
       "    <tr>\n",
       "      <th>4</th>\n",
       "      <td>84358402</td>\n",
       "      <td>M</td>\n",
       "      <td>20.29</td>\n",
       "      <td>14.34</td>\n",
       "      <td>135.10</td>\n",
       "      <td>1297.0</td>\n",
       "      <td>0.10030</td>\n",
       "      <td>0.13280</td>\n",
       "      <td>0.1980</td>\n",
       "      <td>0.10430</td>\n",
       "      <td>...</td>\n",
       "      <td>16.67</td>\n",
       "      <td>152.20</td>\n",
       "      <td>1575.0</td>\n",
       "      <td>0.1374</td>\n",
       "      <td>0.2050</td>\n",
       "      <td>0.4000</td>\n",
       "      <td>0.1625</td>\n",
       "      <td>0.2364</td>\n",
       "      <td>0.07678</td>\n",
       "      <td>NaN</td>\n",
       "    </tr>\n",
       "    <tr>\n",
       "      <th>5</th>\n",
       "      <td>843786</td>\n",
       "      <td>M</td>\n",
       "      <td>12.45</td>\n",
       "      <td>15.70</td>\n",
       "      <td>82.57</td>\n",
       "      <td>477.1</td>\n",
       "      <td>0.12780</td>\n",
       "      <td>0.17000</td>\n",
       "      <td>0.1578</td>\n",
       "      <td>0.08089</td>\n",
       "      <td>...</td>\n",
       "      <td>23.75</td>\n",
       "      <td>103.40</td>\n",
       "      <td>741.6</td>\n",
       "      <td>0.1791</td>\n",
       "      <td>0.5249</td>\n",
       "      <td>0.5355</td>\n",
       "      <td>0.1741</td>\n",
       "      <td>0.3985</td>\n",
       "      <td>0.12440</td>\n",
       "      <td>NaN</td>\n",
       "    </tr>\n",
       "  </tbody>\n",
       "</table>\n",
       "<p>6 rows × 33 columns</p>\n",
       "</div>"
      ],
      "text/plain": [
       "         id diagnosis  radius_mean  texture_mean  perimeter_mean  area_mean  \\\n",
       "0    842302         M        17.99         10.38          122.80     1001.0   \n",
       "1    842517         M        20.57         17.77          132.90     1326.0   \n",
       "2  84300903         M        19.69         21.25          130.00     1203.0   \n",
       "3  84348301         M        11.42         20.38           77.58      386.1   \n",
       "4  84358402         M        20.29         14.34          135.10     1297.0   \n",
       "5    843786         M        12.45         15.70           82.57      477.1   \n",
       "\n",
       "   smoothness_mean  compactness_mean  concavity_mean  concave points_mean  \\\n",
       "0          0.11840           0.27760          0.3001              0.14710   \n",
       "1          0.08474           0.07864          0.0869              0.07017   \n",
       "2          0.10960           0.15990          0.1974              0.12790   \n",
       "3          0.14250           0.28390          0.2414              0.10520   \n",
       "4          0.10030           0.13280          0.1980              0.10430   \n",
       "5          0.12780           0.17000          0.1578              0.08089   \n",
       "\n",
       "   ...  texture_worst  perimeter_worst  area_worst  smoothness_worst  \\\n",
       "0  ...          17.33           184.60      2019.0            0.1622   \n",
       "1  ...          23.41           158.80      1956.0            0.1238   \n",
       "2  ...          25.53           152.50      1709.0            0.1444   \n",
       "3  ...          26.50            98.87       567.7            0.2098   \n",
       "4  ...          16.67           152.20      1575.0            0.1374   \n",
       "5  ...          23.75           103.40       741.6            0.1791   \n",
       "\n",
       "   compactness_worst  concavity_worst  concave points_worst  symmetry_worst  \\\n",
       "0             0.6656           0.7119                0.2654          0.4601   \n",
       "1             0.1866           0.2416                0.1860          0.2750   \n",
       "2             0.4245           0.4504                0.2430          0.3613   \n",
       "3             0.8663           0.6869                0.2575          0.6638   \n",
       "4             0.2050           0.4000                0.1625          0.2364   \n",
       "5             0.5249           0.5355                0.1741          0.3985   \n",
       "\n",
       "   fractal_dimension_worst  Unnamed: 32  \n",
       "0                  0.11890          NaN  \n",
       "1                  0.08902          NaN  \n",
       "2                  0.08758          NaN  \n",
       "3                  0.17300          NaN  \n",
       "4                  0.07678          NaN  \n",
       "5                  0.12440          NaN  \n",
       "\n",
       "[6 rows x 33 columns]"
      ]
     },
     "execution_count": 58,
     "metadata": {},
     "output_type": "execute_result"
    }
   ],
   "source": [
    "df_cancer.head(6)"
   ]
  },
  {
   "cell_type": "code",
   "execution_count": 59,
   "metadata": {},
   "outputs": [
    {
     "data": {
      "text/plain": [
       "id                           0\n",
       "diagnosis                    0\n",
       "radius_mean                  0\n",
       "texture_mean                 0\n",
       "perimeter_mean               0\n",
       "area_mean                    0\n",
       "smoothness_mean              0\n",
       "compactness_mean             0\n",
       "concavity_mean               0\n",
       "concave points_mean          0\n",
       "symmetry_mean                0\n",
       "fractal_dimension_mean       0\n",
       "radius_se                    0\n",
       "texture_se                   0\n",
       "perimeter_se                 0\n",
       "area_se                      0\n",
       "smoothness_se                0\n",
       "compactness_se               0\n",
       "concavity_se                 0\n",
       "concave points_se            0\n",
       "symmetry_se                  0\n",
       "fractal_dimension_se         0\n",
       "radius_worst                 0\n",
       "texture_worst                0\n",
       "perimeter_worst              0\n",
       "area_worst                   0\n",
       "smoothness_worst             0\n",
       "compactness_worst            0\n",
       "concavity_worst              0\n",
       "concave points_worst         0\n",
       "symmetry_worst               0\n",
       "fractal_dimension_worst      0\n",
       "Unnamed: 32                569\n",
       "dtype: int64"
      ]
     },
     "execution_count": 59,
     "metadata": {},
     "output_type": "execute_result"
    }
   ],
   "source": [
    "df_cancer.isna().sum()"
   ]
  },
  {
   "cell_type": "code",
   "execution_count": 9,
   "metadata": {},
   "outputs": [
    {
     "name": "stdout",
     "output_type": "stream",
     "text": [
      "<class 'pandas.core.frame.DataFrame'>\n",
      "RangeIndex: 569 entries, 0 to 568\n",
      "Data columns (total 33 columns):\n",
      " #   Column                   Non-Null Count  Dtype  \n",
      "---  ------                   --------------  -----  \n",
      " 0   id                       569 non-null    int64  \n",
      " 1   diagnosis                569 non-null    object \n",
      " 2   radius_mean              569 non-null    float64\n",
      " 3   texture_mean             569 non-null    float64\n",
      " 4   perimeter_mean           569 non-null    float64\n",
      " 5   area_mean                569 non-null    float64\n",
      " 6   smoothness_mean          569 non-null    float64\n",
      " 7   compactness_mean         569 non-null    float64\n",
      " 8   concavity_mean           569 non-null    float64\n",
      " 9   concave points_mean      569 non-null    float64\n",
      " 10  symmetry_mean            569 non-null    float64\n",
      " 11  fractal_dimension_mean   569 non-null    float64\n",
      " 12  radius_se                569 non-null    float64\n",
      " 13  texture_se               569 non-null    float64\n",
      " 14  perimeter_se             569 non-null    float64\n",
      " 15  area_se                  569 non-null    float64\n",
      " 16  smoothness_se            569 non-null    float64\n",
      " 17  compactness_se           569 non-null    float64\n",
      " 18  concavity_se             569 non-null    float64\n",
      " 19  concave points_se        569 non-null    float64\n",
      " 20  symmetry_se              569 non-null    float64\n",
      " 21  fractal_dimension_se     569 non-null    float64\n",
      " 22  radius_worst             569 non-null    float64\n",
      " 23  texture_worst            569 non-null    float64\n",
      " 24  perimeter_worst          569 non-null    float64\n",
      " 25  area_worst               569 non-null    float64\n",
      " 26  smoothness_worst         569 non-null    float64\n",
      " 27  compactness_worst        569 non-null    float64\n",
      " 28  concavity_worst          569 non-null    float64\n",
      " 29  concave points_worst     569 non-null    float64\n",
      " 30  symmetry_worst           569 non-null    float64\n",
      " 31  fractal_dimension_worst  569 non-null    float64\n",
      " 32  Unnamed: 32              0 non-null      float64\n",
      "dtypes: float64(31), int64(1), object(1)\n",
      "memory usage: 146.8+ KB\n"
     ]
    }
   ],
   "source": [
    "df_cancer.info()"
   ]
  },
  {
   "cell_type": "code",
   "execution_count": 10,
   "metadata": {},
   "outputs": [
    {
     "data": {
      "text/plain": [
       "Index(['id', 'diagnosis', 'radius_mean', 'texture_mean', 'perimeter_mean',\n",
       "       'area_mean', 'smoothness_mean', 'compactness_mean', 'concavity_mean',\n",
       "       'concave points_mean', 'symmetry_mean', 'fractal_dimension_mean',\n",
       "       'radius_se', 'texture_se', 'perimeter_se', 'area_se', 'smoothness_se',\n",
       "       'compactness_se', 'concavity_se', 'concave points_se', 'symmetry_se',\n",
       "       'fractal_dimension_se', 'radius_worst', 'texture_worst',\n",
       "       'perimeter_worst', 'area_worst', 'smoothness_worst',\n",
       "       'compactness_worst', 'concavity_worst', 'concave points_worst',\n",
       "       'symmetry_worst', 'fractal_dimension_worst', 'Unnamed: 32'],\n",
       "      dtype='object')"
      ]
     },
     "execution_count": 10,
     "metadata": {},
     "output_type": "execute_result"
    }
   ],
   "source": [
    "df_cancer.columns"
   ]
  },
  {
   "cell_type": "code",
   "execution_count": 11,
   "metadata": {},
   "outputs": [
    {
     "data": {
      "text/plain": [
       "id                         0.0\n",
       "diagnosis                  0.0\n",
       "radius_mean                0.0\n",
       "texture_mean               0.0\n",
       "perimeter_mean             0.0\n",
       "area_mean                  0.0\n",
       "smoothness_mean            0.0\n",
       "compactness_mean           0.0\n",
       "concavity_mean             0.0\n",
       "concave points_mean        0.0\n",
       "symmetry_mean              0.0\n",
       "fractal_dimension_mean     0.0\n",
       "radius_se                  0.0\n",
       "texture_se                 0.0\n",
       "perimeter_se               0.0\n",
       "area_se                    0.0\n",
       "smoothness_se              0.0\n",
       "compactness_se             0.0\n",
       "concavity_se               0.0\n",
       "concave points_se          0.0\n",
       "symmetry_se                0.0\n",
       "fractal_dimension_se       0.0\n",
       "radius_worst               0.0\n",
       "texture_worst              0.0\n",
       "perimeter_worst            0.0\n",
       "area_worst                 0.0\n",
       "smoothness_worst           0.0\n",
       "compactness_worst          0.0\n",
       "concavity_worst            0.0\n",
       "concave points_worst       0.0\n",
       "symmetry_worst             0.0\n",
       "fractal_dimension_worst    0.0\n",
       "Unnamed: 32                0.0\n",
       "dtype: float64"
      ]
     },
     "execution_count": 11,
     "metadata": {},
     "output_type": "execute_result"
    }
   ],
   "source": [
    "df_cancer[df_cancer == 'NaN'].sum()"
   ]
  },
  {
   "cell_type": "code",
   "execution_count": 12,
   "metadata": {},
   "outputs": [
    {
     "data": {
      "image/png": "[encoded data removed]",
      "text/plain": [
       "<Figure size 432x288 with 1 Axes>"
      ]
     },
     "metadata": {
      "needs_background": "light"
     },
     "output_type": "display_data"
    }
   ],
   "source": [
    "#hue_colors = {'M':,'B'}\n",
    "sns.scatterplot(x = 'radius_mean', y = 'concave points_mean', data = df_cancer, hue = 'diagnosis', hue_order = ['M', 'B'])\n",
    "\n",
    "plt.xlabel('Radius (mean)')\n",
    "plt.ylabel('Concave points (mean)')\n",
    "plt.show()"
   ]
  },
  {
   "cell_type": "code",
   "execution_count": 13,
   "metadata": {},
   "outputs": [
    {
     "data": {
      "image/png": "[encoded data removed]",
      "text/plain": [
       "<Figure size 410.875x360 with 1 Axes>"
      ]
     },
     "metadata": {},
     "output_type": "display_data"
    }
   ],
   "source": [
    "#hue_colors = {'M':,'B'}\n",
    "sns.set_style('whitegrid')\n",
    "g = sns.relplot(x = 'radius_mean', y = 'concave points_mean', data = df_cancer, hue = 'diagnosis', hue_order = ['M', 'B',], kind = \"scatter\", style = 'diagnosis', alpha = 0.45)\n",
    "g.fig.suptitle('Mean concave points vs radius by type of diagnosis')\n",
    "plt.xlabel('Radius (mean)')\n",
    "plt.ylabel('Concave points (mean)')\n",
    "\n",
    "plt.show()"
   ]
  },
  {
   "cell_type": "code",
   "execution_count": 14,
   "metadata": {},
   "outputs": [
    {
     "data": {
      "image/png": "[encoded data removed]",
      "text/plain": [
       "<Figure size 360x720 with 2 Axes>"
      ]
     },
     "metadata": {},
     "output_type": "display_data"
    }
   ],
   "source": [
    "#hue_colors = {'M':,'B'}\n",
    "sns.relplot(x = 'radius_mean', y = 'concave points_mean', data = df_cancer, row = 'diagnosis', hue_order = ['M', 'B',], kind = \"scatter\")\n",
    "\n",
    "plt.xlabel('Radius (mean)')\n",
    "plt.ylabel('Concave points (mean)')\n",
    "plt.show()"
   ]
  },
  {
   "cell_type": "markdown",
   "metadata": {},
   "source": [
    "#### Tree in Scikit-learn"
   ]
  },
  {
   "cell_type": "code",
   "execution_count": 60,
   "metadata": {},
   "outputs": [],
   "source": [
    "X  = df_cancer[['radius_mean', 'concave points_mean']]\n",
    "y = df_cancer['diagnosis'].map({'B':0, 'M':1})"
   ]
  },
  {
   "cell_type": "code",
   "execution_count": 65,
   "metadata": {},
   "outputs": [
    {
     "data": {
      "text/plain": [
       "0      1\n",
       "1      1\n",
       "2      1\n",
       "3      1\n",
       "4      1\n",
       "      ..\n",
       "564    1\n",
       "565    1\n",
       "566    1\n",
       "567    1\n",
       "568    0\n",
       "Name: diagnosis, Length: 569, dtype: int64"
      ]
     },
     "execution_count": 65,
     "metadata": {},
     "output_type": "execute_result"
    }
   ],
   "source": [
    "y"
   ]
  },
  {
   "cell_type": "code",
   "execution_count": 49,
   "metadata": {},
   "outputs": [],
   "source": [
    "#Dont run\n",
    "from sklearn.preprocessing import LabelEncoder\n",
    "le = LabelEncoder()\n",
    "y_encode = le.fit_transform(y)\n"
   ]
  },
  {
   "cell_type": "code",
   "execution_count": 62,
   "metadata": {},
   "outputs": [],
   "source": [
    "#import DecisionTreeClassifier\n",
    "from sklearn.tree import DecisionTreeClassifier\n",
    "\n",
    "#import train_test_split\n",
    "from sklearn.model_selection import train_test_split\n",
    "\n",
    "#import accuracy score\n",
    "from sklearn.metrics import accuracy_score"
   ]
  },
  {
   "cell_type": "code",
   "execution_count": 63,
   "metadata": {},
   "outputs": [
    {
     "data": {
      "text/plain": [
       "0.9035087719298246"
      ]
     },
     "execution_count": 63,
     "metadata": {},
     "output_type": "execute_result"
    }
   ],
   "source": [
    "# split dataset into 80% train, 20% test\n",
    "\n",
    "X_train, X_test, y_train, y_test = train_test_split(X, y, test_size = 0.2, stratify = y, random_state = 1)\n",
    "\n",
    "#Inicializate dt\n",
    "dt = DecisionTreeClassifier(max_depth=2, random_state=1)\n",
    "\n",
    "#Fit dt to the training\n",
    "dt.fit(X_train, y_train)\n",
    "\n",
    "#Predict test set labels\n",
    "y_pred = dt.predict(X_test)\n",
    "\n",
    "# Evaluate test-set accuracy\n",
    "accuracy_score(y_test, y_pred)"
   ]
  },
  {
   "cell_type": "markdown",
   "metadata": {},
   "source": [
    "* Class 1 Malign\n",
    "* Class 0 Benign"
   ]
  },
  {
   "cell_type": "code",
   "execution_count": 68,
   "metadata": {},
   "outputs": [
    {
     "name": "stdout",
     "output_type": "stream",
     "text": [
      "[0 0 0 1 0]\n",
      "Test set accuracy: 0.89\n"
     ]
    }
   ],
   "source": [
    "# Import DecisionTreeClassifier from sklearn.tree\n",
    "from sklearn.tree import DecisionTreeClassifier\n",
    "\n",
    "# Instantiate a DecisionTreeClassifier 'dt' with a maximum depth of 6\n",
    "dt_2 = DecisionTreeClassifier(max_depth=6, random_state=1)\n",
    "\n",
    "# Fit dt to the training set\n",
    "dt_2.fit(X_train, y_train)\n",
    "\n",
    "# Predict test set labels\n",
    "y_pred = dt_2.predict(X_test)\n",
    "print(y_pred[0:5])\n",
    "\n",
    "# Compute test set accuracy  \n",
    "acc = accuracy_score(y_test, y_pred)\n",
    "print(\"Test set accuracy: {:.2f}\".format(acc))"
   ]
  },
  {
   "cell_type": "markdown",
   "metadata": {},
   "source": [
    "#### Logistic regression vs classification tree"
   ]
  },
  {
   "cell_type": "code",
   "execution_count": 20,
   "metadata": {},
   "outputs": [
    {
     "name": "stdout",
     "output_type": "stream",
     "text": [
      "Requirement already satisfied: mlxtend in c:\\programdata\\anaconda3\\lib\\site-packages (0.18.0)\n",
      "Requirement already satisfied: scipy>=1.2.1 in c:\\programdata\\anaconda3\\lib\\site-packages (from mlxtend) (1.5.2)\n",
      "Requirement already satisfied: pandas>=0.24.2 in c:\\programdata\\anaconda3\\lib\\site-packages (from mlxtend) (1.1.3)\n",
      "Requirement already satisfied: numpy>=1.16.2 in c:\\programdata\\anaconda3\\lib\\site-packages (from mlxtend) (1.19.2)\n",
      "Requirement already satisfied: setuptools in c:\\programdata\\anaconda3\\lib\\site-packages (from mlxtend) (50.3.1.post20201107)\n",
      "Requirement already satisfied: matplotlib>=3.0.0 in c:\\programdata\\anaconda3\\lib\\site-packages (from mlxtend) (3.3.2)\n",
      "Requirement already satisfied: scikit-learn>=0.20.3 in c:\\programdata\\anaconda3\\lib\\site-packages (from mlxtend) (0.23.2)\n",
      "Requirement already satisfied: joblib>=0.13.2 in c:\\programdata\\anaconda3\\lib\\site-packages (from mlxtend) (0.17.0)\n",
      "Requirement already satisfied: python-dateutil>=2.7.3 in c:\\programdata\\anaconda3\\lib\\site-packages (from pandas>=0.24.2->mlxtend) (2.8.1)\n",
      "Requirement already satisfied: pytz>=2017.2 in c:\\programdata\\anaconda3\\lib\\site-packages (from pandas>=0.24.2->mlxtend) (2020.1)\n",
      "Requirement already satisfied: pyparsing!=2.0.4,!=2.1.2,!=2.1.6,>=2.0.3 in c:\\programdata\\anaconda3\\lib\\site-packages (from matplotlib>=3.0.0->mlxtend) (2.4.7)\n",
      "Requirement already satisfied: cycler>=0.10 in c:\\programdata\\anaconda3\\lib\\site-packages (from matplotlib>=3.0.0->mlxtend) (0.10.0)\n",
      "Requirement already satisfied: pillow>=6.2.0 in c:\\programdata\\anaconda3\\lib\\site-packages (from matplotlib>=3.0.0->mlxtend) (8.0.1)\n",
      "Requirement already satisfied: certifi>=2020.06.20 in c:\\programdata\\anaconda3\\lib\\site-packages (from matplotlib>=3.0.0->mlxtend) (2020.6.20)\n",
      "Requirement already satisfied: kiwisolver>=1.0.1 in c:\\programdata\\anaconda3\\lib\\site-packages (from matplotlib>=3.0.0->mlxtend) (1.3.0)\n",
      "Requirement already satisfied: threadpoolctl>=2.0.0 in c:\\programdata\\anaconda3\\lib\\site-packages (from scikit-learn>=0.20.3->mlxtend) (2.1.0)\n",
      "Requirement already satisfied: six>=1.5 in c:\\programdata\\anaconda3\\lib\\site-packages (from python-dateutil>=2.7.3->pandas>=0.24.2->mlxtend) (1.15.0)\n"
     ]
    }
   ],
   "source": [
    "# We want import \"from mlxtend.plotting import plot_decision_regions\"\n",
    "!pip install mlxtend  "
   ]
  },
  {
   "cell_type": "code",
   "execution_count": 70,
   "metadata": {},
   "outputs": [
    {
     "ename": "AttributeError",
     "evalue": "'list' object has no attribute 'predict'",
     "output_type": "error",
     "traceback": [
      "\u001b[1;31m---------------------------------------------------------------------------\u001b[0m",
      "\u001b[1;31mAttributeError\u001b[0m                            Traceback (most recent call last)",
      "\u001b[1;32m<ipython-input-70-819a94664c45>\u001b[0m in \u001b[0;36m<module>\u001b[1;34m\u001b[0m\n\u001b[0;32m     14\u001b[0m \u001b[1;33m\u001b[0m\u001b[0m\n\u001b[0;32m     15\u001b[0m \u001b[1;31m# Review the decision regions of the two classifiers\u001b[0m\u001b[1;33m\u001b[0m\u001b[1;33m\u001b[0m\u001b[1;33m\u001b[0m\u001b[0m\n\u001b[1;32m---> 16\u001b[1;33m \u001b[0mplot_decision_regions\u001b[0m\u001b[1;33m(\u001b[0m\u001b[0mnp\u001b[0m\u001b[1;33m.\u001b[0m\u001b[0marray\u001b[0m\u001b[1;33m(\u001b[0m\u001b[0mX_test\u001b[0m\u001b[1;33m)\u001b[0m\u001b[1;33m,\u001b[0m \u001b[0mnp\u001b[0m\u001b[1;33m.\u001b[0m\u001b[0marray\u001b[0m\u001b[1;33m(\u001b[0m\u001b[0my_test\u001b[0m\u001b[1;33m)\u001b[0m\u001b[1;33m,\u001b[0m \u001b[0mclfs\u001b[0m\u001b[1;33m)\u001b[0m\u001b[1;33m\u001b[0m\u001b[1;33m\u001b[0m\u001b[0m\n\u001b[0m",
      "\u001b[1;32mC:\\ProgramData\\Anaconda3\\lib\\site-packages\\mlxtend\\plotting\\decision_regions.py\u001b[0m in \u001b[0;36mplot_decision_regions\u001b[1;34m(X, y, clf, feature_index, filler_feature_values, filler_feature_ranges, ax, X_highlight, res, zoom_factor, legend, hide_spines, markers, colors, scatter_kwargs, contourf_kwargs, scatter_highlight_kwargs)\u001b[0m\n\u001b[0;32m    228\u001b[0m             \u001b[1;32mfor\u001b[0m \u001b[0mfeature_idx\u001b[0m \u001b[1;32min\u001b[0m \u001b[0mfiller_feature_values\u001b[0m\u001b[1;33m:\u001b[0m\u001b[1;33m\u001b[0m\u001b[1;33m\u001b[0m\u001b[0m\n\u001b[0;32m    229\u001b[0m                 \u001b[0mX_predict\u001b[0m\u001b[1;33m[\u001b[0m\u001b[1;33m:\u001b[0m\u001b[1;33m,\u001b[0m \u001b[0mfeature_idx\u001b[0m\u001b[1;33m]\u001b[0m \u001b[1;33m=\u001b[0m \u001b[0mfiller_feature_values\u001b[0m\u001b[1;33m[\u001b[0m\u001b[0mfeature_idx\u001b[0m\u001b[1;33m]\u001b[0m\u001b[1;33m\u001b[0m\u001b[1;33m\u001b[0m\u001b[0m\n\u001b[1;32m--> 230\u001b[1;33m     \u001b[0mZ\u001b[0m \u001b[1;33m=\u001b[0m \u001b[0mclf\u001b[0m\u001b[1;33m.\u001b[0m\u001b[0mpredict\u001b[0m\u001b[1;33m(\u001b[0m\u001b[0mX_predict\u001b[0m\u001b[1;33m.\u001b[0m\u001b[0mastype\u001b[0m\u001b[1;33m(\u001b[0m\u001b[0mX\u001b[0m\u001b[1;33m.\u001b[0m\u001b[0mdtype\u001b[0m\u001b[1;33m)\u001b[0m\u001b[1;33m)\u001b[0m\u001b[1;33m\u001b[0m\u001b[1;33m\u001b[0m\u001b[0m\n\u001b[0m\u001b[0;32m    231\u001b[0m     \u001b[0mZ\u001b[0m \u001b[1;33m=\u001b[0m \u001b[0mZ\u001b[0m\u001b[1;33m.\u001b[0m\u001b[0mreshape\u001b[0m\u001b[1;33m(\u001b[0m\u001b[0mxx\u001b[0m\u001b[1;33m.\u001b[0m\u001b[0mshape\u001b[0m\u001b[1;33m)\u001b[0m\u001b[1;33m\u001b[0m\u001b[1;33m\u001b[0m\u001b[0m\n\u001b[0;32m    232\u001b[0m     \u001b[1;31m# Plot decisoin region\u001b[0m\u001b[1;33m\u001b[0m\u001b[1;33m\u001b[0m\u001b[1;33m\u001b[0m\u001b[0m\n",
      "\u001b[1;31mAttributeError\u001b[0m: 'list' object has no attribute 'predict'"
     ]
    },
    {
     "data": {
      "image/png": "[encoded data removed]",
      "text/plain": [
       "<Figure size 432x288 with 1 Axes>"
      ]
     },
     "metadata": {},
     "output_type": "display_data"
    }
   ],
   "source": [
    "# Import LogisticRegression from sklearn.linear_model\n",
    "from sklearn.linear_model import  LogisticRegression\n",
    "from mlxtend.plotting import plot_decision_regions\n",
    "\n",
    "\n",
    "# Instatiate logreg\n",
    "logreg = LogisticRegression(random_state=1)\n",
    "\n",
    "# Fit logreg to the training set\n",
    "logreg.fit(X_train, y_train)\n",
    "\n",
    "# Define a list called clfs containing the two classifiers logreg and dt\n",
    "clfs = [logreg, dt_2]\n",
    "\n",
    "# Review the decision regions of the two classifiers\n",
    "plot_decision_regions(np.array(X_test), np.array(y_test), clfs)"
   ]
  },
  {
   "cell_type": "markdown",
   "metadata": {},
   "source": [
    "Notice how the decision boundary produced by logistic regression is linear while the boundaries produced by the classification tree divide the feature space into rectangular regions."
   ]
  },
  {
   "cell_type": "markdown",
   "metadata": {},
   "source": [
    "##### Using gini as a criterion "
   ]
  },
  {
   "cell_type": "code",
   "execution_count": 71,
   "metadata": {},
   "outputs": [
    {
     "data": {
      "text/plain": [
       "0.9210526315789473"
      ]
     },
     "execution_count": 71,
     "metadata": {},
     "output_type": "execute_result"
    }
   ],
   "source": [
    "# split dataset into 80% train, 20% test\n",
    "\n",
    "X_train, X_test, y_train, y_test = train_test_split(X, y, test_size = 0.2, stratify = y, random_state = 1)\n",
    "\n",
    "#Inicializate dt\n",
    "dt = DecisionTreeClassifier(criterion = 'gini', random_state=1)\n",
    "\n",
    "#Fit dt to the training\n",
    "dt.fit(X_train, y_train)\n",
    "\n",
    "#Predict test set labels\n",
    "y_pred = dt.predict(X_test)\n",
    "\n",
    "# Evaluate test-set accuracy\n",
    "accuracy_gini =  accuracy_score(y_test, y_pred)\n",
    "accuracy_gini"
   ]
  },
  {
   "cell_type": "markdown",
   "metadata": {},
   "source": [
    "#### Using entropy as a criterion"
   ]
  },
  {
   "cell_type": "code",
   "execution_count": 72,
   "metadata": {},
   "outputs": [
    {
     "data": {
      "text/plain": [
       "DecisionTreeClassifier(criterion='entropy', max_depth=8, random_state=1)"
      ]
     },
     "execution_count": 72,
     "metadata": {},
     "output_type": "execute_result"
    }
   ],
   "source": [
    "# Import DecisionTreeClassifier from sklearn.tree\n",
    "from sklearn.tree import DecisionTreeClassifier\n",
    "\n",
    "# Instantiate dt_entropy, set 'entropy' as the information criterion\n",
    "dt_entropy = DecisionTreeClassifier(max_depth=8, criterion='entropy', random_state=1)\n",
    "\n",
    "# Fit dt_entropy to the training set\n",
    "dt_entropy.fit(X_train, y_train)"
   ]
  },
  {
   "cell_type": "code",
   "execution_count": 73,
   "metadata": {},
   "outputs": [],
   "source": [
    "# Instantiate dt_entropy, set 'entropy' as the information criterion\n",
    "dt_gini = DecisionTreeClassifier(max_depth=8, criterion='gini', random_state=1)\n",
    "\n",
    "# Fit dt_entropy to the training set\n",
    "dt_gini.fit(X_train, y_train)\n",
    "\n",
    "y_pred = dt_gini.predict(X_test)\n",
    "\n",
    "# Evaluate test-set accuracy\n",
    "accuracy_gini =  accuracy_score(y_test, y_pred)"
   ]
  },
  {
   "cell_type": "markdown",
   "metadata": {},
   "source": [
    "#### Entropy vs Gini index"
   ]
  },
  {
   "cell_type": "code",
   "execution_count": 74,
   "metadata": {},
   "outputs": [
    {
     "name": "stdout",
     "output_type": "stream",
     "text": [
      "Accuracy achieved by using entropy:  0.8859649122807017\n",
      "Accuracy achieved by using the gini index:  0.9210526315789473\n"
     ]
    }
   ],
   "source": [
    "# Import accuracy_score from sklearn.metrics\n",
    "from sklearn.metrics import accuracy_score\n",
    "\n",
    "# Use dt_entropy to predict test set labels\n",
    "y_pred= dt_entropy.predict(X_test)\n",
    "\n",
    "# Evaluate accuracy_entropy\n",
    "accuracy_entropy = accuracy_score(y_test, y_pred)\n",
    "\n",
    "# Print accuracy_entropy\n",
    "print('Accuracy achieved by using entropy: ', accuracy_entropy)\n",
    "\n",
    "# Print accuracy_gini\n",
    "print('Accuracy achieved by using the gini index: ', accuracy_gini)"
   ]
  },
  {
   "cell_type": "markdown",
   "metadata": {},
   "source": [
    "#### Ensemble Learning Breast Cancer"
   ]
  },
  {
   "cell_type": "code",
   "execution_count": 75,
   "metadata": {},
   "outputs": [],
   "source": [
    "#import train_test_split\n",
    "from sklearn.model_selection import train_test_split\n",
    "\n",
    "#import accuracy score\n",
    "from sklearn.metrics import accuracy_score\n",
    "\n",
    "#import models including Voting-Classifier meta-model\n",
    "from sklearn.linear_model import LogisticRegression\n",
    "from sklearn.tree import DecisionTreeClassifier\n",
    "from sklearn.neighbors import KNeighborsClassifier as KNN\n",
    "from sklearn.ensemble import VotingClassifier"
   ]
  },
  {
   "cell_type": "code",
   "execution_count": 76,
   "metadata": {},
   "outputs": [
    {
     "name": "stdout",
     "output_type": "stream",
     "text": [
      "Logistic Regression : 0.848\n",
      "K Nearest Neighbours : 0.883\n",
      "Classification Tree : 0.901\n"
     ]
    }
   ],
   "source": [
    "#Set seed for reproducibility\n",
    "SEED = 1\n",
    "\n",
    "# split dataset into 80% train, 20% test\n",
    "X_train, X_test, y_train, y_test = train_test_split(X, y, test_size = 0.3, random_state = SEED)\n",
    "\n",
    "#Instatiate indiviudal classiffiers\n",
    "lr = LogisticRegression(random_state = SEED)\n",
    "knn = KNN()\n",
    "dt = DecisionTreeClassifier(random_state = SEED)\n",
    "\n",
    "#Define a list called classifier that contains the tuples (classifier_name,classifiert)\n",
    "classifiers = [('Logistic Regression', lr),('K Nearest Neighbours', knn),('Classification Tree', dt)]\n",
    "\n",
    "# Iterate over the defined list of tuples containing the classifiers\n",
    "for clf_name, clf in classifiers:\n",
    "    #fit clf to the training set\n",
    "    clf.fit(X_train, y_train)\n",
    "    \n",
    "    #Predict the labels of test set\n",
    "    y_pred = clf.predict(X_test)\n",
    "    \n",
    "    #Evaluate the accuracy of clf on the test set\n",
    "    print('{:s} : {:.3f}'.format(clf_name, accuracy_score(y_test,y_pred)))"
   ]
  },
  {
   "cell_type": "code",
   "execution_count": 77,
   "metadata": {},
   "outputs": [
    {
     "name": "stdout",
     "output_type": "stream",
     "text": [
      "Voting classifier: 0.895\n"
     ]
    }
   ],
   "source": [
    "#Instatiate voting classifier\n",
    "vc = VotingClassifier(estimators = classifiers)\n",
    "\n",
    "# Fit 'vc' to the training set and predict test set labels\n",
    "vc.fit(X_train, y_train)\n",
    "y_pred = vc.predict(X_test)\n",
    "\n",
    "#Evaluate the test set accuracy of vc\n",
    "print('Voting classifier: {:.3f}'.format(accuracy_score(y_test,y_pred)))"
   ]
  },
  {
   "cell_type": "markdown",
   "metadata": {},
   "source": [
    "#### Bagging Classifier with Brest-Cancer-Dataset"
   ]
  },
  {
   "cell_type": "code",
   "execution_count": 78,
   "metadata": {},
   "outputs": [],
   "source": [
    "# Import models and utility functions\n",
    "from sklearn.ensemble import BaggingClassifier\n",
    "from sklearn.tree import DecisionTreeClassifier\n",
    "from sklearn.metrics import accuracy_score as acc\n",
    "from sklearn.model_selection import train_test_split"
   ]
  },
  {
   "cell_type": "code",
   "execution_count": 80,
   "metadata": {},
   "outputs": [
    {
     "name": "stdout",
     "output_type": "stream",
     "text": [
      "Accuracy of Bagging Classifier: 0.895\n"
     ]
    }
   ],
   "source": [
    "# Set seed for reproducibility\n",
    "SEED = 1\n",
    "\n",
    "#Split data into 70% train and 30% test\n",
    "X_train, X_test, y_train, y_test = train_test_split(X, y, test_size = 0.3, stratify = y ,random_state = SEED)\n",
    "\n",
    "#Instatiate a classification-tree dt\n",
    "dt = DecisionTreeClassifier(max_depth = 4, min_samples_leaf = 0.16, random_state=SEED)\n",
    "\n",
    "#Instatiate a BaggingClassifier bc\n",
    "bc = BaggingClassifier(base_estimator = dt, n_estimators=300, n_jobs=-1)\n",
    "\n",
    "# Fit bc to the trainning set\n",
    "bc.fit(X_train, y_train)\n",
    "\n",
    "#Predict test set labels\n",
    "y_pred = bc.predict(X_test)\n",
    "\n",
    "# Evaluate and print test_set accuracy\n",
    "accuracy = acc(y_test, y_pred)\n",
    "print('Accuracy of Bagging Classifier: {:.3f}'.format(accuracy))"
   ]
  },
  {
   "cell_type": "markdown",
   "metadata": {},
   "source": [
    "#### OOB Evaluation with Breast Cancer Dataset"
   ]
  },
  {
   "cell_type": "code",
   "execution_count": 88,
   "metadata": {},
   "outputs": [],
   "source": [
    "# Import models and utility functions\n",
    "from sklearn.ensemble import BaggingClassifier\n",
    "from sklearn.tree import DecisionTreeClassifier\n",
    "from sklearn.metrics import accuracy_score as acc\n",
    "from sklearn.model_selection import train_test_split\n",
    "\n"
   ]
  },
  {
   "cell_type": "code",
   "execution_count": 90,
   "metadata": {},
   "outputs": [
    {
     "name": "stdout",
     "output_type": "stream",
     "text": [
      "Test set accuracy: 0.877\n"
     ]
    }
   ],
   "source": [
    "# Set seed for reproducibility\n",
    "SEED = 1\n",
    "\n",
    "#Split data into 70% train and 30% test\n",
    "X_train, X_test, y_train, y_test = train_test_split(X, y, test_size = 0.3, stratify = y ,random_state = SEED)\n",
    "\n",
    "#Instatiate a classification-tree dt\n",
    "dt = DecisionTreeClassifier(max_depth = 4, min_samples_leaf = 0.16, random_state=SEED)\n",
    "\n",
    "#Instatiate a BaggingClassifier bc\n",
    "bc = BaggingClassifier(base_estimator = dt, n_estimators=300, oob_score = True ,n_jobs=-1)\n",
    "\n",
    "# Fit bc to the trainning set\n",
    "bc.fit(X_train, y_train)\n",
    "\n",
    "#Predict test set labels\n",
    "y_pred = bc.predict(X_test)\n",
    "\n",
    "# Evaluate and print test_set accuracy\n",
    "test_accuracy = acc(y_test, y_pred)\n",
    "\n",
    "#Extract the OOB accuracy from bc\n",
    "oob_accuracy = bc.oob_score_\n",
    "\n",
    "#Print test set accuracy\n",
    "print('Test set accuracy: {:.3f}'.format(test_accuracy))"
   ]
  },
  {
   "cell_type": "code",
   "execution_count": 91,
   "metadata": {},
   "outputs": [
    {
     "name": "stdout",
     "output_type": "stream",
     "text": [
      "OOB accuracy: 0.915\n"
     ]
    }
   ],
   "source": [
    "# Print OOB accuracy\n",
    "print('OOB accuracy: {:.3f}'.format(oob_accuracy))"
   ]
  },
  {
   "cell_type": "markdown",
   "metadata": {},
   "source": [
    "#### Adabost Classification Breast Cancer dataset"
   ]
  },
  {
   "cell_type": "code",
   "execution_count": 187,
   "metadata": {},
   "outputs": [],
   "source": [
    "# Import models and utility functions\n",
    "from sklearn.ensemble import AdaBoostClassifier\n",
    "from sklearn.tree import DecisionTreeClassifier\n",
    "from sklearn.metrics import roc_auc_score\n",
    "from sklearn.model_selection import train_test_split"
   ]
  },
  {
   "cell_type": "code",
   "execution_count": 191,
   "metadata": {},
   "outputs": [],
   "source": [
    "# Set seed for reproducibility\n",
    "SEED = 1\n",
    "\n",
    "# Split data into 70% train and 30% test\n",
    "X_train, X_test, y_train, y_test = train_test_split(X, y , test_size=0.3, stratify = y, random_state = SEED)"
   ]
  },
  {
   "cell_type": "code",
   "execution_count": 194,
   "metadata": {},
   "outputs": [],
   "source": [
    "# Instatiate a classifier-tree dt\n",
    "dt = DecisionTreeClassifier(max_depth=1, random_state = SEED)\n",
    "\n",
    "# Instatiate a AdaBoostClassifier\n",
    "adb_clf = AdaBoostClassifier(base_estimator = dt, n_estimators = 100)\n",
    "\n",
    "#Fit adb_clf to the training set\n",
    "adb_clf.fit(X_train, y_train)\n",
    "\n",
    "#Predict the test set probability  of position class\n",
    "y_pred_proba = adb_clf.predict_proba(X_test)[:,1]\n",
    "\n",
    "#Evaluate test set roc_auc_score\n",
    "adb_clf_roc_auc_score = roc_auc_score(y_test, y_pred_proba)"
   ]
  },
  {
   "cell_type": "code",
   "execution_count": 195,
   "metadata": {},
   "outputs": [
    {
     "name": "stdout",
     "output_type": "stream",
     "text": [
      "ROC AUC score: 0.96\n"
     ]
    }
   ],
   "source": [
    "# Print adb_clf_roc_auc_score\n",
    "\n",
    "print('ROC AUC score: {:.2f}'.format(adb_clf_roc_auc_score))"
   ]
  },
  {
   "cell_type": "markdown",
   "metadata": {},
   "source": [
    "### Tuning a CART's Hyperparameters"
   ]
  },
  {
   "cell_type": "code",
   "execution_count": 68,
   "metadata": {},
   "outputs": [
    {
     "name": "stdout",
     "output_type": "stream",
     "text": [
      "{'ccp_alpha': 0.0, 'class_weight': None, 'criterion': 'gini', 'max_depth': None, 'max_features': None, 'max_leaf_nodes': None, 'min_impurity_decrease': 0.0, 'min_impurity_split': None, 'min_samples_leaf': 1, 'min_samples_split': 2, 'min_weight_fraction_leaf': 0.0, 'presort': 'deprecated', 'random_state': 1, 'splitter': 'best'}\n",
      "Best hyperameter:\n",
      " {'max_depth': 3, 'max_features': 0.2, 'min_samples_leaf': 0.06}\n",
      "\n",
      "Best CV accuracy\n",
      "\n",
      "Test set accuracy of best model:  0.904\n"
     ]
    }
   ],
   "source": [
    "# Import DecisionTreeClassifier\n",
    "from sklearn.tree import DecisionTreeClassifier\n",
    "\n",
    "# Set SEED to 1 for reproducibility\n",
    "SEED = 1\n",
    "\n",
    "# Instantiate a DecisionTreeClassifier dt\n",
    "dt = DecisionTreeClassifier(random_state = SEED)\n",
    "\n",
    "\n",
    "# Print out dt hyperparameters\n",
    "print(dt.get_params())\n",
    "\n",
    "# Import GridSearchCV()\n",
    "from sklearn.model_selection import GridSearchCV\n",
    "\n",
    "# Define the grid of hyperparameters params_dt \n",
    "params_dt = {'max_depth':[3,4,5,6] ,\n",
    "            'min_samples_leaf': [0.04, 0.06, 0.08] ,\n",
    "            'max_features': [0.2, 0.4, 0.6, 0.8]}\n",
    "\n",
    "grid_dt = GridSearchCV(estimator = dt, param_grid = params_dt, scoring = 'accuracy', cv=10, n_jobs = -1 )\n",
    "\n",
    "grid_dt.fit(X_train, y_train)\n",
    "\n",
    "# Extract best hyperparameters from grid_dt\n",
    "best_hyperparams = grid_dt.best_params_\n",
    "\n",
    "print('Best hyperameter:\\n', best_hyperparams)\n",
    "print()\n",
    "#Extract best CV score from grid_dt\n",
    "best_cv_score = grid_dt.best_score_\n",
    "print('Best CV accuracy'.format(best_cv_score))\n",
    "print()\n",
    "# Extract the best estimator\n",
    "best_model = grid_dt.best_estimator_\n",
    "\n",
    "# Evaluate test set accuracy\n",
    "test_acc = best_model.score(X_test, y_test)\n",
    "\n",
    "# Print test set accuracy\n",
    "print(\"Test set accuracy of best model:  {:.3f}\".format(test_acc))"
   ]
  },
  {
   "cell_type": "code",
   "execution_count": null,
   "metadata": {},
   "outputs": [],
   "source": []
  },
  {
   "cell_type": "markdown",
   "metadata": {},
   "source": [
    "### Analyzing auto-mpg datase\n",
    "\n",
    "* Dataset with 6 features, characteristics of the car\n",
    "\n",
    "__Objetive__ Predict  is mpg consumtion of a car given six features: mpg, disl, hp, weight, accel, origin, size"
   ]
  },
  {
   "cell_type": "markdown",
   "metadata": {},
   "source": [
    "#### Decision tree for regression\n"
   ]
  },
  {
   "cell_type": "code",
   "execution_count": 78,
   "metadata": {},
   "outputs": [
    {
     "data": {
      "text/html": [
       "<div>\n",
       "<style scoped>\n",
       "    .dataframe tbody tr th:only-of-type {\n",
       "        vertical-align: middle;\n",
       "    }\n",
       "\n",
       "    .dataframe tbody tr th {\n",
       "        vertical-align: top;\n",
       "    }\n",
       "\n",
       "    .dataframe thead th {\n",
       "        text-align: right;\n",
       "    }\n",
       "</style>\n",
       "<table border=\"1\" class=\"dataframe\">\n",
       "  <thead>\n",
       "    <tr style=\"text-align: right;\">\n",
       "      <th></th>\n",
       "      <th>mpg</th>\n",
       "      <th>displ</th>\n",
       "      <th>hp</th>\n",
       "      <th>weight</th>\n",
       "      <th>accel</th>\n",
       "      <th>origin</th>\n",
       "      <th>size</th>\n",
       "    </tr>\n",
       "  </thead>\n",
       "  <tbody>\n",
       "    <tr>\n",
       "      <th>0</th>\n",
       "      <td>18.0</td>\n",
       "      <td>250.0</td>\n",
       "      <td>88</td>\n",
       "      <td>3139</td>\n",
       "      <td>14.5</td>\n",
       "      <td>US</td>\n",
       "      <td>15.0</td>\n",
       "    </tr>\n",
       "    <tr>\n",
       "      <th>1</th>\n",
       "      <td>9.0</td>\n",
       "      <td>304.0</td>\n",
       "      <td>193</td>\n",
       "      <td>4732</td>\n",
       "      <td>18.5</td>\n",
       "      <td>US</td>\n",
       "      <td>20.0</td>\n",
       "    </tr>\n",
       "    <tr>\n",
       "      <th>2</th>\n",
       "      <td>36.1</td>\n",
       "      <td>91.0</td>\n",
       "      <td>60</td>\n",
       "      <td>1800</td>\n",
       "      <td>16.4</td>\n",
       "      <td>Asia</td>\n",
       "      <td>10.0</td>\n",
       "    </tr>\n",
       "    <tr>\n",
       "      <th>3</th>\n",
       "      <td>18.5</td>\n",
       "      <td>250.0</td>\n",
       "      <td>98</td>\n",
       "      <td>3525</td>\n",
       "      <td>19.0</td>\n",
       "      <td>US</td>\n",
       "      <td>15.0</td>\n",
       "    </tr>\n",
       "  </tbody>\n",
       "</table>\n",
       "</div>"
      ],
      "text/plain": [
       "    mpg  displ   hp  weight  accel origin  size\n",
       "0  18.0  250.0   88    3139   14.5     US  15.0\n",
       "1   9.0  304.0  193    4732   18.5     US  20.0\n",
       "2  36.1   91.0   60    1800   16.4   Asia  10.0\n",
       "3  18.5  250.0   98    3525   19.0     US  15.0"
      ]
     },
     "execution_count": 78,
     "metadata": {},
     "output_type": "execute_result"
    }
   ],
   "source": [
    "df_auto.head(4)"
   ]
  },
  {
   "cell_type": "code",
   "execution_count": 79,
   "metadata": {},
   "outputs": [
    {
     "name": "stdout",
     "output_type": "stream",
     "text": [
      "<class 'pandas.core.frame.DataFrame'>\n",
      "RangeIndex: 392 entries, 0 to 391\n",
      "Data columns (total 7 columns):\n",
      " #   Column  Non-Null Count  Dtype  \n",
      "---  ------  --------------  -----  \n",
      " 0   mpg     392 non-null    float64\n",
      " 1   displ   392 non-null    float64\n",
      " 2   hp      392 non-null    int64  \n",
      " 3   weight  392 non-null    int64  \n",
      " 4   accel   392 non-null    float64\n",
      " 5   origin  392 non-null    object \n",
      " 6   size    392 non-null    float64\n",
      "dtypes: float64(4), int64(2), object(1)\n",
      "memory usage: 21.6+ KB\n"
     ]
    }
   ],
   "source": [
    "df_auto.info()"
   ]
  },
  {
   "cell_type": "code",
   "execution_count": 80,
   "metadata": {},
   "outputs": [
    {
     "data": {
      "text/plain": [
       "Index(['mpg', 'displ', 'hp', 'weight', 'accel', 'origin', 'size'], dtype='object')"
      ]
     },
     "execution_count": 80,
     "metadata": {},
     "output_type": "execute_result"
    }
   ],
   "source": [
    "df_auto.columns"
   ]
  },
  {
   "cell_type": "code",
   "execution_count": 81,
   "metadata": {},
   "outputs": [
    {
     "data": {
      "image/png": "[encoded data removed]",
      "text/plain": [
       "<Figure size 360x360 with 1 Axes>"
      ]
     },
     "metadata": {},
     "output_type": "display_data"
    }
   ],
   "source": [
    "#hue_colors = {'M':,'B'}\n",
    "sns.set_style('whitegrid')\n",
    "g = sns.relplot(x = 'displ', y = 'mpg', data = df_auto, kind = \"scatter\", alpha = 0.45)\n",
    "g.fig.suptitle('displacement of of car by consumption')\n",
    "plt.ylabel('milles per gallon')\n",
    "plt.xlabel('displacement')\n",
    "\n",
    "plt.show()"
   ]
  },
  {
   "cell_type": "code",
   "execution_count": 82,
   "metadata": {},
   "outputs": [],
   "source": [
    "X_car = np.array(df_auto['displ']).reshape(len(df_auto['displ']), 1)\n",
    "y_car = np.array(df_auto['mpg']).reshape(len(df_auto['displ']), 1)"
   ]
  },
  {
   "cell_type": "code",
   "execution_count": 83,
   "metadata": {},
   "outputs": [
    {
     "data": {
      "text/plain": [
       "array([[250. ],\n",
       "       [304. ],\n",
       "       [ 91. ],\n",
       "       [250. ],\n",
       "       [ 97. ],\n",
       "       [119. ],\n",
       "       [108. ],\n",
       "       [121. ],\n",
       "       [302. ],\n",
       "       [302. ],\n",
       "       [ 97. ],\n",
       "       [151. ],\n",
       "       [135. ],\n",
       "       [351. ],\n",
       "       [400. ],\n",
       "       [307. ],\n",
       "       [ 79. ],\n",
       "       [119. ],\n",
       "       [ 71. ],\n",
       "       [ 80. ],\n",
       "       [225. ],\n",
       "       [231. ],\n",
       "       [302. ],\n",
       "       [383. ],\n",
       "       [140. ],\n",
       "       [ 98. ],\n",
       "       [144. ],\n",
       "       [113. ],\n",
       "       [231. ],\n",
       "       [120. ],\n",
       "       [168. ],\n",
       "       [304. ],\n",
       "       [140. ],\n",
       "       [225. ],\n",
       "       [107. ],\n",
       "       [116. ],\n",
       "       [302. ],\n",
       "       [302. ],\n",
       "       [ 98. ],\n",
       "       [ 85. ],\n",
       "       [ 81. ],\n",
       "       [135. ],\n",
       "       [351. ],\n",
       "       [400. ],\n",
       "       [ 98. ],\n",
       "       [ 79. ],\n",
       "       [119. ],\n",
       "       [318. ],\n",
       "       [ 98. ],\n",
       "       [250. ],\n",
       "       [383. ],\n",
       "       [302. ],\n",
       "       [113. ],\n",
       "       [151. ],\n",
       "       [ 98. ],\n",
       "       [105. ],\n",
       "       [232. ],\n",
       "       [200. ],\n",
       "       [232. ],\n",
       "       [ 91. ],\n",
       "       [ 71. ],\n",
       "       [250. ],\n",
       "       [250. ],\n",
       "       [140. ],\n",
       "       [225. ],\n",
       "       [ 91. ],\n",
       "       [350. ],\n",
       "       [260. ],\n",
       "       [318. ],\n",
       "       [ 98. ],\n",
       "       [318. ],\n",
       "       [ 96. ],\n",
       "       [318. ],\n",
       "       [429. ],\n",
       "       [146. ],\n",
       "       [140. ],\n",
       "       [232. ],\n",
       "       [173. ],\n",
       "       [198. ],\n",
       "       [116. ],\n",
       "       [145. ],\n",
       "       [ 79. ],\n",
       "       [141. ],\n",
       "       [231. ],\n",
       "       [135. ],\n",
       "       [114. ],\n",
       "       [350. ],\n",
       "       [440. ],\n",
       "       [ 91. ],\n",
       "       [400. ],\n",
       "       [ 98. ],\n",
       "       [350. ],\n",
       "       [181. ],\n",
       "       [113. ],\n",
       "       [ 91. ],\n",
       "       [400. ],\n",
       "       [ 91. ],\n",
       "       [200. ],\n",
       "       [258. ],\n",
       "       [156. ],\n",
       "       [130. ],\n",
       "       [121. ],\n",
       "       [140. ],\n",
       "       [ 98. ],\n",
       "       [120. ],\n",
       "       [ 90. ],\n",
       "       [250. ],\n",
       "       [350. ],\n",
       "       [ 85. ],\n",
       "       [131. ],\n",
       "       [ 97. ],\n",
       "       [304. ],\n",
       "       [140. ],\n",
       "       [400. ],\n",
       "       [107. ],\n",
       "       [260. ],\n",
       "       [ 79. ],\n",
       "       [351. ],\n",
       "       [350. ],\n",
       "       [302. ],\n",
       "       [101. ],\n",
       "       [ 72. ],\n",
       "       [318. ],\n",
       "       [121. ],\n",
       "       [111. ],\n",
       "       [ 89. ],\n",
       "       [ 97. ],\n",
       "       [225. ],\n",
       "       [140. ],\n",
       "       [225. ],\n",
       "       [400. ],\n",
       "       [ 97.5],\n",
       "       [105. ],\n",
       "       [318. ],\n",
       "       [360. ],\n",
       "       [ 86. ],\n",
       "       [232. ],\n",
       "       [ 90. ],\n",
       "       [250. ],\n",
       "       [140. ],\n",
       "       [ 90. ],\n",
       "       [231. ],\n",
       "       [231. ],\n",
       "       [140. ],\n",
       "       [232. ],\n",
       "       [ 97. ],\n",
       "       [121. ],\n",
       "       [400. ],\n",
       "       [156. ],\n",
       "       [141. ],\n",
       "       [350. ],\n",
       "       [350. ],\n",
       "       [ 89. ],\n",
       "       [120. ],\n",
       "       [250. ],\n",
       "       [225. ],\n",
       "       [151. ],\n",
       "       [108. ],\n",
       "       [ 97. ],\n",
       "       [350. ],\n",
       "       [ 91. ],\n",
       "       [151. ],\n",
       "       [135. ],\n",
       "       [120. ],\n",
       "       [121. ],\n",
       "       [110. ],\n",
       "       [350. ],\n",
       "       [156. ],\n",
       "       [351. ],\n",
       "       [119. ],\n",
       "       [250. ],\n",
       "       [ 97. ],\n",
       "       [302. ],\n",
       "       [318. ],\n",
       "       [112. ],\n",
       "       [350. ],\n",
       "       [ 98. ],\n",
       "       [104. ],\n",
       "       [305. ],\n",
       "       [112. ],\n",
       "       [262. ],\n",
       "       [ 79. ],\n",
       "       [200. ],\n",
       "       [121. ],\n",
       "       [122. ],\n",
       "       [ 98. ],\n",
       "       [168. ],\n",
       "       [258. ],\n",
       "       [ 86. ],\n",
       "       [121. ],\n",
       "       [454. ],\n",
       "       [121. ],\n",
       "       [350. ],\n",
       "       [225. ],\n",
       "       [260. ],\n",
       "       [455. ],\n",
       "       [200. ],\n",
       "       [ 98. ],\n",
       "       [120. ],\n",
       "       [151. ],\n",
       "       [232. ],\n",
       "       [ 68. ],\n",
       "       [173. ],\n",
       "       [108. ],\n",
       "       [119. ],\n",
       "       [ 91. ],\n",
       "       [232. ],\n",
       "       [390. ],\n",
       "       [105. ],\n",
       "       [232. ],\n",
       "       [ 91. ],\n",
       "       [ 86. ],\n",
       "       [107. ],\n",
       "       [225. ],\n",
       "       [258. ],\n",
       "       [ 89. ],\n",
       "       [108. ],\n",
       "       [ 97. ],\n",
       "       [318. ],\n",
       "       [250. ],\n",
       "       [318. ],\n",
       "       [112. ],\n",
       "       [455. ],\n",
       "       [ 98. ],\n",
       "       [105. ],\n",
       "       [429. ],\n",
       "       [250. ],\n",
       "       [120. ],\n",
       "       [225. ],\n",
       "       [250. ],\n",
       "       [250. ],\n",
       "       [199. ],\n",
       "       [122. ],\n",
       "       [200. ],\n",
       "       [302. ],\n",
       "       [112. ],\n",
       "       [122. ],\n",
       "       [400. ],\n",
       "       [ 85. ],\n",
       "       [ 90. ],\n",
       "       [183. ],\n",
       "       [ 85. ],\n",
       "       [400. ],\n",
       "       [134. ],\n",
       "       [318. ],\n",
       "       [225. ],\n",
       "       [307. ],\n",
       "       [ 91. ],\n",
       "       [ 85. ],\n",
       "       [351. ],\n",
       "       [198. ],\n",
       "       [ 83. ],\n",
       "       [440. ],\n",
       "       [ 70. ],\n",
       "       [305. ],\n",
       "       [ 91. ],\n",
       "       [318. ],\n",
       "       [120. ],\n",
       "       [ 97. ],\n",
       "       [225. ],\n",
       "       [360. ],\n",
       "       [350. ],\n",
       "       [105. ],\n",
       "       [318. ],\n",
       "       [232. ],\n",
       "       [146. ],\n",
       "       [429. ],\n",
       "       [350. ],\n",
       "       [360. ],\n",
       "       [250. ],\n",
       "       [455. ],\n",
       "       [350. ],\n",
       "       [360. ],\n",
       "       [116. ],\n",
       "       [200. ],\n",
       "       [134. ],\n",
       "       [122. ],\n",
       "       [ 97. ],\n",
       "       [ 90. ],\n",
       "       [351. ],\n",
       "       [151. ],\n",
       "       [ 70. ],\n",
       "       [ 78. ],\n",
       "       [140. ],\n",
       "       [122. ],\n",
       "       [ 76. ],\n",
       "       [115. ],\n",
       "       [ 97. ],\n",
       "       [318. ],\n",
       "       [250. ],\n",
       "       [134. ],\n",
       "       [304. ],\n",
       "       [ 90. ],\n",
       "       [155. ],\n",
       "       [231. ],\n",
       "       [107. ],\n",
       "       [171. ],\n",
       "       [163. ],\n",
       "       [ 85. ],\n",
       "       [ 97. ],\n",
       "       [121. ],\n",
       "       [305. ],\n",
       "       [173. ],\n",
       "       [121. ],\n",
       "       [105. ],\n",
       "       [ 97. ],\n",
       "       [400. ],\n",
       "       [105. ],\n",
       "       [ 98. ],\n",
       "       [156. ],\n",
       "       [198. ],\n",
       "       [ 89. ],\n",
       "       [231. ],\n",
       "       [350. ],\n",
       "       [340. ],\n",
       "       [400. ],\n",
       "       [258. ],\n",
       "       [350. ],\n",
       "       [ 97. ],\n",
       "       [304. ],\n",
       "       [ 98. ],\n",
       "       [ 97. ],\n",
       "       [ 98. ],\n",
       "       [ 97. ],\n",
       "       [225. ],\n",
       "       [302. ],\n",
       "       [262. ],\n",
       "       [107. ],\n",
       "       [304. ],\n",
       "       [134. ],\n",
       "       [ 97. ],\n",
       "       [351. ],\n",
       "       [305. ],\n",
       "       [400. ],\n",
       "       [122. ],\n",
       "       [119. ],\n",
       "       [151. ],\n",
       "       [350. ],\n",
       "       [140. ],\n",
       "       [120. ],\n",
       "       [350. ],\n",
       "       [ 98. ],\n",
       "       [ 86. ],\n",
       "       [140. ],\n",
       "       [140. ],\n",
       "       [318. ],\n",
       "       [318. ],\n",
       "       [122. ],\n",
       "       [304. ],\n",
       "       [121. ],\n",
       "       [302. ],\n",
       "       [225. ],\n",
       "       [163. ],\n",
       "       [116. ],\n",
       "       [108. ],\n",
       "       [ 88. ],\n",
       "       [ 70. ],\n",
       "       [318. ],\n",
       "       [146. ],\n",
       "       [151. ],\n",
       "       [200. ],\n",
       "       [ 97. ],\n",
       "       [ 97. ],\n",
       "       [135. ],\n",
       "       [ 90. ],\n",
       "       [351. ],\n",
       "       [168. ],\n",
       "       [232. ],\n",
       "       [400. ],\n",
       "       [ 97. ],\n",
       "       [ 97. ],\n",
       "       [140. ],\n",
       "       [307. ],\n",
       "       [267. ],\n",
       "       [156. ],\n",
       "       [258. ],\n",
       "       [ 91. ],\n",
       "       [ 79. ],\n",
       "       [232. ],\n",
       "       [318. ],\n",
       "       [199. ],\n",
       "       [ 90. ],\n",
       "       [231. ],\n",
       "       [ 89. ],\n",
       "       [120. ],\n",
       "       [156. ],\n",
       "       [ 85. ],\n",
       "       [250. ],\n",
       "       [151. ],\n",
       "       [ 98. ],\n",
       "       [250. ],\n",
       "       [140. ]])"
      ]
     },
     "execution_count": 83,
     "metadata": {},
     "output_type": "execute_result"
    }
   ],
   "source": [
    "X_car"
   ]
  },
  {
   "cell_type": "code",
   "execution_count": 85,
   "metadata": {},
   "outputs": [
    {
     "data": {
      "text/plain": [
       "(392, 1)"
      ]
     },
     "execution_count": 85,
     "metadata": {},
     "output_type": "execute_result"
    }
   ],
   "source": [
    "X_car.shape"
   ]
  },
  {
   "cell_type": "code",
   "execution_count": 84,
   "metadata": {},
   "outputs": [
    {
     "data": {
      "text/plain": [
       "(392, 1)"
      ]
     },
     "execution_count": 84,
     "metadata": {},
     "output_type": "execute_result"
    }
   ],
   "source": [
    "y_car.shape"
   ]
  },
  {
   "cell_type": "code",
   "execution_count": 17,
   "metadata": {
    "scrolled": true
   },
   "outputs": [
    {
     "name": "stdout",
     "output_type": "stream",
     "text": [
      "5.102306888903137\n"
     ]
    }
   ],
   "source": [
    "# Import DecisionTreeRegressor\n",
    "from sklearn.tree import DecisionTreeRegressor\n",
    "\n",
    "# Import train_test_split\n",
    "from sklearn.model_selection import train_test_split\n",
    "\n",
    "#Import mean_squared_error as MSE\n",
    "from sklearn.metrics import mean_squared_error as MSE\n",
    "\n",
    "# split dataset into 80% train, 20% test\n",
    "\n",
    "X_train, X_test, y_train, y_test = train_test_split(X_car, y_car, test_size = 0.2, random_state = 3)\n",
    "\n",
    "#Inicializate a DecisionTreeRegressor dt_car\n",
    "\n",
    "dt_car = DecisionTreeRegressor(max_depth=4, min_samples_leaf=0.1,random_state=3) #min samples_ leaf At leat each leaf have a 0.10 of training data\n",
    "\n",
    "# Fit dt_car to the training data\n",
    "dt_car.fit(X_train, y_train)\n",
    "\n",
    "#Predict test set labels\n",
    "y_pred = dt_car.predict(X_test)\n",
    "\n",
    "#Compute test-set MSE\n",
    "mse_dt_car = MSE(y_test, y_pred)\n",
    "\n",
    "rmse_dt_car = mse_dt_car**(1/2)\n",
    "# print(rmse_dt)\n",
    "print(rmse_dt_car)"
   ]
  },
  {
   "cell_type": "code",
   "execution_count": 18,
   "metadata": {},
   "outputs": [
    {
     "data": {
      "text/plain": [
       "DecisionTreeRegressor(max_depth=8, min_samples_leaf=0.13, random_state=3)"
      ]
     },
     "execution_count": 18,
     "metadata": {},
     "output_type": "execute_result"
    }
   ],
   "source": [
    "# Import DecisionTreeRegressor from sklearn.tree\n",
    "from sklearn.tree import DecisionTreeRegressor\n",
    "\n",
    "# Instantiate dt\n",
    "dt_carb = DecisionTreeRegressor(max_depth=8,\n",
    "             min_samples_leaf=0.13,\n",
    "            random_state=3)\n",
    "\n",
    "# Fit dt to the training set\n",
    "dt_carb.fit(X_train, y_train)"
   ]
  },
  {
   "cell_type": "code",
   "execution_count": 19,
   "metadata": {},
   "outputs": [
    {
     "name": "stdout",
     "output_type": "stream",
     "text": [
      "Test set RMSE of dt: 5.04\n"
     ]
    }
   ],
   "source": [
    "# Import mean_squared_error from sklearn.metrics as MSE\n",
    "from sklearn.metrics import mean_squared_error as MSE\n",
    "\n",
    "# Compute y_pred\n",
    "y_pred = dt_carb.predict(X_test)\n",
    "\n",
    "# Compute mse_dt\n",
    "mse_dt_carb = MSE(y_test, y_pred)\n",
    "\n",
    "# Compute rmse_dt\n",
    "rmse_dt_carb = mse_dt_carb**(1/2)\n",
    "\n",
    "# Print rmse_dt\n",
    "print(\"Test set RMSE of dt: {:.2f}\".format(rmse_dt_carb))"
   ]
  },
  {
   "cell_type": "markdown",
   "metadata": {},
   "source": [
    "### Linear regression vs regression tree"
   ]
  },
  {
   "cell_type": "markdown",
   "metadata": {},
   "source": [
    "### The Bias-Variance Tradeoff"
   ]
  },
  {
   "cell_type": "markdown",
   "metadata": {},
   "source": [
    "#### K-fold CV in sklearn on the Auto dataset"
   ]
  },
  {
   "cell_type": "code",
   "execution_count": 20,
   "metadata": {},
   "outputs": [
    {
     "name": "stdout",
     "output_type": "stream",
     "text": [
      "CV MSE: 19.94\n"
     ]
    }
   ],
   "source": [
    "from sklearn.tree import DecisionTreeRegressor\n",
    "from sklearn.model_selection import train_test_split\n",
    "from sklearn.metrics import mean_squared_error as MSE\n",
    "from sklearn.model_selection import cross_val_score\n",
    "\n",
    "#Set seed for reproducibility\n",
    "SEED = 123\n",
    "\n",
    "#Split data into 70% train and 30% test\n",
    "X_train, X_test, y_train, y_test = train_test_split(X_car, y_car, test_size = 0.3, random_state = SEED)\n",
    "\n",
    "#Instantiate decision tree regressor and assign it to dt\n",
    "dt =  DecisionTreeRegressor(max_depth=4, min_samples_leaf=0.14, random_state = SEED)\n",
    "\n",
    "#Evaluate the list of MSE  ontained by 10-fold CV\n",
    "#Set n_jobs to -1 in order to exploit  all CPU cores in computation\n",
    "MSE_CV = -cross_val_score(dt, X_train, y_train, cv=10, scoring='neg_mean_squared_error', n_jobs = -1)\n",
    "\n",
    "#Fit 'dt' to the training set\n",
    "dt.fit(X_train, y_train)\n",
    "\n",
    "#Predict the labels of training set\n",
    "y_predict_train = dt.predict(X_train)\n",
    "\n",
    "#Predict the labels of test set\n",
    "y_predict_test = dt.predict(X_test)\n",
    "\n",
    "#CV MSE\n",
    "print('CV MSE: {:.2f}'.format(MSE_CV.mean()))\n"
   ]
  },
  {
   "cell_type": "code",
   "execution_count": 21,
   "metadata": {},
   "outputs": [
    {
     "name": "stdout",
     "output_type": "stream",
     "text": [
      "Train MSE: 17.89\n",
      "Train MSE: 20.41\n"
     ]
    }
   ],
   "source": [
    "#Training set MSE\n",
    "print('Train MSE: {:.2f}'.format(MSE(y_train,y_predict_train)))\n",
    "#Test set MSE\n",
    "print('Train MSE: {:.2f}'.format(MSE(y_test,y_predict_test)))"
   ]
  },
  {
   "cell_type": "markdown",
   "metadata": {},
   "source": [
    "#### Another Example: Instantiate the model\n",
    "\n",
    "* Import train_test_split from sklearn.model_selection.\n",
    "* Split the data into 70% train and 30% test.\n",
    "* Instantiate a DecisionTreeRegressor with max depth 4 and min_samples_leaf set to 0.26."
   ]
  },
  {
   "cell_type": "code",
   "execution_count": 22,
   "metadata": {},
   "outputs": [],
   "source": [
    "# Import train_test_split from sklearn.model_selection\n",
    "from sklearn.model_selection import train_test_split\n",
    "\n",
    "# Set SEED for reproducibility\n",
    "SEED = 1\n",
    "\n",
    "# Split the data into 70% train and 30% test\n",
    "X_train, X_test, y_train, y_test = train_test_split(X_car, y_car, test_size=0.3, random_state=SEED)\n",
    "\n",
    "# Instantiate a DecisionTreeRegressor dt\n",
    "dt = DecisionTreeRegressor(max_depth=4, min_samples_leaf=0.26, random_state=SEED)"
   ]
  },
  {
   "cell_type": "markdown",
   "metadata": {},
   "source": [
    "#### Evaluate the 10-fold CV error"
   ]
  },
  {
   "cell_type": "markdown",
   "metadata": {},
   "source": [
    "* Compute dt's 10-fold cross-validated MSE by setting the scoring argument to 'neg_mean_squared_error'.\n",
    "\n",
    "* Compute RMSE from the obtained MSE scores."
   ]
  },
  {
   "cell_type": "code",
   "execution_count": 23,
   "metadata": {},
   "outputs": [
    {
     "name": "stdout",
     "output_type": "stream",
     "text": [
      "CV RMSE: 5.09\n"
     ]
    }
   ],
   "source": [
    "# Compute the array containing the 10-folds CV MSEs\n",
    "MSE_CV_scores = - cross_val_score(dt, X_train, y_train, cv=10, scoring='neg_mean_squared_error', n_jobs = -1)\n",
    "\n",
    "# Compute the 10-folds CV RMSE\n",
    "RMSE_CV = (MSE_CV_scores.mean())**(1/2)\n",
    "\n",
    "# Print RMSE_CV\n",
    "print('CV RMSE: {:.2f}'.format(RMSE_CV))"
   ]
  },
  {
   "cell_type": "markdown",
   "metadata": {},
   "source": [
    "#### Evaluate the training error"
   ]
  },
  {
   "cell_type": "markdown",
   "metadata": {},
   "source": [
    "* Import mean_squared_error as MSE from sklearn.metrics.\n",
    "* Fit dt to the training set.\n",
    "* Predict dt's training set labels and assign the result to y_pred_train.\n",
    "* Evaluate dt's training set RMSE and assign it to RMSE_train"
   ]
  },
  {
   "cell_type": "code",
   "execution_count": 24,
   "metadata": {},
   "outputs": [
    {
     "name": "stdout",
     "output_type": "stream",
     "text": [
      "Train RMSE: 5.16\n"
     ]
    }
   ],
   "source": [
    "from sklearn.metrics import mean_squared_error as MSE\n",
    "\n",
    "# Fit dt to the training set\n",
    "dt.fit(X_train, y_train)\n",
    "\n",
    "# Predict the labels of the training set\n",
    "y_pred_train = dt.predict(X_train)\n",
    "\n",
    "# Evaluate the training set RMSE of dt\n",
    "RMSE_train = (MSE(y_train, y_pred_train))**(1/2)\n",
    "\n",
    "# Print RMSE_train\n",
    "print('Train RMSE: {:.2f}'.format(RMSE_train))\n",
    "\n"
   ]
  },
  {
   "cell_type": "markdown",
   "metadata": {},
   "source": [
    "If we compare wit the first linear regressor\n",
    "dt is indeed underfitting the training set as the model is too constrained to capture the nonlinear dependencies between features and labels"
   ]
  },
  {
   "cell_type": "markdown",
   "metadata": {},
   "source": [
    "#### Random Forest Auto Dataset"
   ]
  },
  {
   "cell_type": "code",
   "execution_count": 86,
   "metadata": {},
   "outputs": [],
   "source": [
    "X_c = df_auto['displ'].values.ravel().reshape(-1, 1)\n",
    "y_c = df_auto['mpg'].values.ravel()"
   ]
  },
  {
   "cell_type": "code",
   "execution_count": 87,
   "metadata": {},
   "outputs": [],
   "source": [
    "X_c = df_auto.drop('mpg', axis = 1)\n",
    "y_c = df_auto['mpg'].values.ravel()"
   ]
  },
  {
   "cell_type": "code",
   "execution_count": 88,
   "metadata": {},
   "outputs": [],
   "source": [
    "X_c = pd.get_dummies(X_c)"
   ]
  },
  {
   "cell_type": "code",
   "execution_count": 28,
   "metadata": {},
   "outputs": [
    {
     "data": {
      "text/plain": [
       "(392,)"
      ]
     },
     "execution_count": 28,
     "metadata": {},
     "output_type": "execute_result"
    }
   ],
   "source": [
    "y_c.shape"
   ]
  },
  {
   "cell_type": "code",
   "execution_count": 29,
   "metadata": {},
   "outputs": [
    {
     "data": {
      "text/plain": [
       "(392, 8)"
      ]
     },
     "execution_count": 29,
     "metadata": {},
     "output_type": "execute_result"
    }
   ],
   "source": [
    "X_c.shape"
   ]
  },
  {
   "cell_type": "code",
   "execution_count": 30,
   "metadata": {},
   "outputs": [
    {
     "data": {
      "text/html": [
       "<div>\n",
       "<style scoped>\n",
       "    .dataframe tbody tr th:only-of-type {\n",
       "        vertical-align: middle;\n",
       "    }\n",
       "\n",
       "    .dataframe tbody tr th {\n",
       "        vertical-align: top;\n",
       "    }\n",
       "\n",
       "    .dataframe thead th {\n",
       "        text-align: right;\n",
       "    }\n",
       "</style>\n",
       "<table border=\"1\" class=\"dataframe\">\n",
       "  <thead>\n",
       "    <tr style=\"text-align: right;\">\n",
       "      <th></th>\n",
       "      <th>displ</th>\n",
       "      <th>hp</th>\n",
       "      <th>weight</th>\n",
       "      <th>accel</th>\n",
       "      <th>size</th>\n",
       "      <th>origin_Asia</th>\n",
       "      <th>origin_Europe</th>\n",
       "      <th>origin_US</th>\n",
       "    </tr>\n",
       "  </thead>\n",
       "  <tbody>\n",
       "    <tr>\n",
       "      <th>0</th>\n",
       "      <td>250.0</td>\n",
       "      <td>88</td>\n",
       "      <td>3139</td>\n",
       "      <td>14.5</td>\n",
       "      <td>15.0</td>\n",
       "      <td>0</td>\n",
       "      <td>0</td>\n",
       "      <td>1</td>\n",
       "    </tr>\n",
       "    <tr>\n",
       "      <th>1</th>\n",
       "      <td>304.0</td>\n",
       "      <td>193</td>\n",
       "      <td>4732</td>\n",
       "      <td>18.5</td>\n",
       "      <td>20.0</td>\n",
       "      <td>0</td>\n",
       "      <td>0</td>\n",
       "      <td>1</td>\n",
       "    </tr>\n",
       "    <tr>\n",
       "      <th>2</th>\n",
       "      <td>91.0</td>\n",
       "      <td>60</td>\n",
       "      <td>1800</td>\n",
       "      <td>16.4</td>\n",
       "      <td>10.0</td>\n",
       "      <td>1</td>\n",
       "      <td>0</td>\n",
       "      <td>0</td>\n",
       "    </tr>\n",
       "    <tr>\n",
       "      <th>3</th>\n",
       "      <td>250.0</td>\n",
       "      <td>98</td>\n",
       "      <td>3525</td>\n",
       "      <td>19.0</td>\n",
       "      <td>15.0</td>\n",
       "      <td>0</td>\n",
       "      <td>0</td>\n",
       "      <td>1</td>\n",
       "    </tr>\n",
       "    <tr>\n",
       "      <th>4</th>\n",
       "      <td>97.0</td>\n",
       "      <td>78</td>\n",
       "      <td>2188</td>\n",
       "      <td>15.8</td>\n",
       "      <td>10.0</td>\n",
       "      <td>0</td>\n",
       "      <td>1</td>\n",
       "      <td>0</td>\n",
       "    </tr>\n",
       "    <tr>\n",
       "      <th>...</th>\n",
       "      <td>...</td>\n",
       "      <td>...</td>\n",
       "      <td>...</td>\n",
       "      <td>...</td>\n",
       "      <td>...</td>\n",
       "      <td>...</td>\n",
       "      <td>...</td>\n",
       "      <td>...</td>\n",
       "    </tr>\n",
       "    <tr>\n",
       "      <th>387</th>\n",
       "      <td>250.0</td>\n",
       "      <td>88</td>\n",
       "      <td>3021</td>\n",
       "      <td>16.5</td>\n",
       "      <td>15.0</td>\n",
       "      <td>0</td>\n",
       "      <td>0</td>\n",
       "      <td>1</td>\n",
       "    </tr>\n",
       "    <tr>\n",
       "      <th>388</th>\n",
       "      <td>151.0</td>\n",
       "      <td>90</td>\n",
       "      <td>2950</td>\n",
       "      <td>17.3</td>\n",
       "      <td>10.0</td>\n",
       "      <td>0</td>\n",
       "      <td>0</td>\n",
       "      <td>1</td>\n",
       "    </tr>\n",
       "    <tr>\n",
       "      <th>389</th>\n",
       "      <td>98.0</td>\n",
       "      <td>68</td>\n",
       "      <td>2135</td>\n",
       "      <td>16.6</td>\n",
       "      <td>10.0</td>\n",
       "      <td>1</td>\n",
       "      <td>0</td>\n",
       "      <td>0</td>\n",
       "    </tr>\n",
       "    <tr>\n",
       "      <th>390</th>\n",
       "      <td>250.0</td>\n",
       "      <td>110</td>\n",
       "      <td>3520</td>\n",
       "      <td>16.4</td>\n",
       "      <td>15.0</td>\n",
       "      <td>0</td>\n",
       "      <td>0</td>\n",
       "      <td>1</td>\n",
       "    </tr>\n",
       "    <tr>\n",
       "      <th>391</th>\n",
       "      <td>140.0</td>\n",
       "      <td>88</td>\n",
       "      <td>2720</td>\n",
       "      <td>15.4</td>\n",
       "      <td>10.0</td>\n",
       "      <td>0</td>\n",
       "      <td>0</td>\n",
       "      <td>1</td>\n",
       "    </tr>\n",
       "  </tbody>\n",
       "</table>\n",
       "<p>392 rows × 8 columns</p>\n",
       "</div>"
      ],
      "text/plain": [
       "     displ   hp  weight  accel  size  origin_Asia  origin_Europe  origin_US\n",
       "0    250.0   88    3139   14.5  15.0            0              0          1\n",
       "1    304.0  193    4732   18.5  20.0            0              0          1\n",
       "2     91.0   60    1800   16.4  10.0            1              0          0\n",
       "3    250.0   98    3525   19.0  15.0            0              0          1\n",
       "4     97.0   78    2188   15.8  10.0            0              1          0\n",
       "..     ...  ...     ...    ...   ...          ...            ...        ...\n",
       "387  250.0   88    3021   16.5  15.0            0              0          1\n",
       "388  151.0   90    2950   17.3  10.0            0              0          1\n",
       "389   98.0   68    2135   16.6  10.0            1              0          0\n",
       "390  250.0  110    3520   16.4  15.0            0              0          1\n",
       "391  140.0   88    2720   15.4  10.0            0              0          1\n",
       "\n",
       "[392 rows x 8 columns]"
      ]
     },
     "execution_count": 30,
     "metadata": {},
     "output_type": "execute_result"
    }
   ],
   "source": [
    "X_c"
   ]
  },
  {
   "cell_type": "code",
   "execution_count": 31,
   "metadata": {},
   "outputs": [],
   "source": [
    "# Basic imports\n",
    "from sklearn.ensemble import RandomForestRegressor\n",
    "from sklearn.model_selection import train_test_split\n",
    "from sklearn.metrics import mean_squared_error as MSE\n",
    "\n",
    "#Set seed for reproducbility\n",
    "SEED = 1\n",
    "\n",
    "#Split dataset into 70% train adn 30% test\n",
    "X_train, X_test, y_train, y_test = train_test_split(X_c, y_c, test_size=0.3, random_state=SEED)\n",
    "\n",
    "# Instatiate a random forests regressor 'rf' 400 estimators\n",
    "rf = RandomForestRegressor(n_estimators=400, min_samples_leaf=0.12, random_state=SEED)\n",
    "\n",
    "#Fit 'rf' to the training set\n",
    "rf.fit(X_train,y_train)\n",
    "#Predict the testset labels 'y_pred'\n",
    "y_pred = rf.predict(X_test)"
   ]
  },
  {
   "cell_type": "code",
   "execution_count": 32,
   "metadata": {},
   "outputs": [
    {
     "name": "stdout",
     "output_type": "stream",
     "text": [
      "Test set RMSE of: 3.98\n"
     ]
    }
   ],
   "source": [
    "# Evaluate the test set RMSE\n",
    "rmse_test = MSE(y_test, y_pred)**(1/2)\n",
    "\n",
    "# Print the test set RMSE\n",
    "print('Test set RMSE of: {:.2f}'.format(rmse_test))"
   ]
  },
  {
   "cell_type": "markdown",
   "metadata": {},
   "source": [
    "#### Feature importance"
   ]
  },
  {
   "cell_type": "code",
   "execution_count": 33,
   "metadata": {},
   "outputs": [
    {
     "data": {
      "image/png": "[encoded data removed]",
      "text/plain": [
       "<Figure size 432x288 with 1 Axes>"
      ]
     },
     "metadata": {},
     "output_type": "display_data"
    }
   ],
   "source": [
    "#Create a pd.Series of features importance\n",
    "importances_rf = pd.Series(rf.feature_importances_ , index = X_c.columns)\n",
    "\n",
    "#Sort importances_rf\n",
    "sorted_importances_rf = importances_rf.sort_values()\n",
    "\n",
    "#Make a horizontal bar plot\n",
    "sorted_importances_rf.plot(kind = 'barh', color = 'lightgreen')\n",
    "plt.show()"
   ]
  },
  {
   "cell_type": "markdown",
   "metadata": {},
   "source": [
    "#### Gradient Bosting in sklearn (audo dataset)"
   ]
  },
  {
   "cell_type": "code",
   "execution_count": 34,
   "metadata": {},
   "outputs": [],
   "source": [
    "# Import modesl and utility functions\n",
    "from sklearn.ensemble import GradientBoostingRegressor\n",
    "from sklearn.model_selection import train_test_split\n",
    "from sklearn.metrics import mean_squared_error as MSE\n",
    "\n",
    "#Set seed for reproducibility\n",
    "SEED = 1\n",
    "\n"
   ]
  },
  {
   "cell_type": "code",
   "execution_count": 35,
   "metadata": {},
   "outputs": [],
   "source": [
    "#Split dataset into 70% train adn 30% test\n",
    "X_train, X_test, y_train, y_test = train_test_split(X_car, y_car, test_size=0.3, random_state=SEED)"
   ]
  },
  {
   "cell_type": "code",
   "execution_count": 36,
   "metadata": {},
   "outputs": [
    {
     "data": {
      "text/plain": [
       "(274, 1)"
      ]
     },
     "execution_count": 36,
     "metadata": {},
     "output_type": "execute_result"
    }
   ],
   "source": [
    "X_train.shape"
   ]
  },
  {
   "cell_type": "code",
   "execution_count": 37,
   "metadata": {},
   "outputs": [
    {
     "data": {
      "text/plain": [
       "(274, 1)"
      ]
     },
     "execution_count": 37,
     "metadata": {},
     "output_type": "execute_result"
    }
   ],
   "source": [
    "y_train.shape"
   ]
  },
  {
   "cell_type": "code",
   "execution_count": 38,
   "metadata": {},
   "outputs": [
    {
     "data": {
      "text/plain": [
       "(118, 1)"
      ]
     },
     "execution_count": 38,
     "metadata": {},
     "output_type": "execute_result"
    }
   ],
   "source": [
    "X_test.shape"
   ]
  },
  {
   "cell_type": "code",
   "execution_count": 39,
   "metadata": {},
   "outputs": [
    {
     "data": {
      "text/plain": [
       "(118, 1)"
      ]
     },
     "execution_count": 39,
     "metadata": {},
     "output_type": "execute_result"
    }
   ],
   "source": [
    "y_test.shape"
   ]
  },
  {
   "cell_type": "code",
   "execution_count": 40,
   "metadata": {},
   "outputs": [
    {
     "name": "stdout",
     "output_type": "stream",
     "text": [
      "Test set: 4.37\n"
     ]
    },
    {
     "name": "stderr",
     "output_type": "stream",
     "text": [
      "C:\\ProgramData\\Anaconda3\\lib\\site-packages\\sklearn\\utils\\validation.py:72: DataConversionWarning: A column-vector y was passed when a 1d array was expected. Please change the shape of y to (n_samples, ), for example using ravel().\n",
      "  return f(**kwargs)\n"
     ]
    }
   ],
   "source": [
    "# Instantiate a GradientBoostingRegressor gbt\n",
    "gbt = GradientBoostingRegressor(n_estimators = 300, max_depth=1, random_state = SEED)\n",
    "\n",
    "#Fit gbt to the training set\n",
    "gbt.fit(X_train, y_train)\n",
    "\n",
    "# Predict the test set labels\n",
    "y_pred = gbt.predict(X_test)\n",
    "\n",
    "#Evaluate the test set RMSE\n",
    "rmse_test = MSE(y_test, y_pred)**(1/2)\n",
    "\n",
    "#print the test set RMSE\n",
    "print('Test set: {:.2f}'.format(rmse_test))"
   ]
  },
  {
   "cell_type": "markdown",
   "metadata": {},
   "source": [
    "#### Stochastic Gradient Boosting"
   ]
  },
  {
   "cell_type": "code",
   "execution_count": 42,
   "metadata": {},
   "outputs": [],
   "source": [
    "# Imports models and utility functions\n",
    "from sklearn.ensemble import GradientBoostingRegressor\n",
    "from sklearn.model_selection import train_test_split\n",
    "from sklearn.metrics import mean_squared_error as MSE\n",
    "\n",
    "# Set seed for reproducibility\n",
    "SEED = 1\n",
    "\n",
    "# Split dataset into 70% train and 30% test\n",
    "X_train, X_test, y_train, y_test = train_test_split(X_car, y_car, test_size = 0.3, random_state=SEED)"
   ]
  },
  {
   "cell_type": "code",
   "execution_count": 46,
   "metadata": {},
   "outputs": [
    {
     "name": "stdout",
     "output_type": "stream",
     "text": [
      "Test set RMSE: 4.43\n"
     ]
    },
    {
     "name": "stderr",
     "output_type": "stream",
     "text": [
      "C:\\ProgramData\\Anaconda3\\lib\\site-packages\\sklearn\\utils\\validation.py:72: DataConversionWarning: A column-vector y was passed when a 1d array was expected. Please change the shape of y to (n_samples, ), for example using ravel().\n",
      "  return f(**kwargs)\n"
     ]
    }
   ],
   "source": [
    "# Instantiate a stochastic GradientBoostingRegressor sgbt\n",
    "sgbt = GradientBoostingRegressor(max_depth=1, subsample=0.8, max_features=0.2, n_estimators = 300, random_state = SEED)\n",
    "\n",
    "# Fit sbgt to the training set\n",
    "sgbt.fit(X_train, y_train)\n",
    "\n",
    "# Predict the test set labels\n",
    "y_pred = sgbt.predict(X_test)\n",
    "\n",
    "# Evaluate test set RMSE rmse_test\n",
    "rmse_test = MSE(y_test, y_pred)**(1/2)\n",
    "\n",
    "# print rmse_test\n",
    "print('Test set RMSE: {:.2F}'.format(rmse_test))"
   ]
  },
  {
   "cell_type": "code",
   "execution_count": 91,
   "metadata": {},
   "outputs": [],
   "source": [
    "# Split dataset into 70% train and 30% test\n",
    "X_train, X_test, y_train, y_test = train_test_split(X_car, y_car, test_size = 0.3, random_state=SEED)"
   ]
  },
  {
   "cell_type": "code",
   "execution_count": 95,
   "metadata": {},
   "outputs": [
    {
     "name": "stdout",
     "output_type": "stream",
     "text": [
      "\n",
      "{'bootstrap': True, 'ccp_alpha': 0.0, 'criterion': 'mse', 'max_depth': None, 'max_features': 'auto', 'max_leaf_nodes': None, 'max_samples': None, 'min_impurity_decrease': 0.0, 'min_impurity_split': None, 'min_samples_leaf': 1, 'min_samples_split': 2, 'min_weight_fraction_leaf': 0.0, 'n_estimators': 100, 'n_jobs': None, 'oob_score': False, 'random_state': 1, 'verbose': 0, 'warm_start': False}\n",
      "\n",
      "Fitting 3 folds for each of 36 candidates, totalling 108 fits\n"
     ]
    },
    {
     "name": "stderr",
     "output_type": "stream",
     "text": [
      "[Parallel(n_jobs=-1)]: Using backend LokyBackend with 8 concurrent workers.\n",
      "[Parallel(n_jobs=-1)]: Done  34 tasks      | elapsed:    7.2s\n",
      "[Parallel(n_jobs=-1)]: Done 108 out of 108 | elapsed:   18.3s finished\n",
      "C:\\ProgramData\\Anaconda3\\lib\\site-packages\\sklearn\\model_selection\\_search.py:765: DataConversionWarning: A column-vector y was passed when a 1d array was expected. Please change the shape of y to (n_samples,), for example using ravel().\n",
      "  self.best_estimator_.fit(X, y, **fit_params)\n"
     ]
    },
    {
     "name": "stdout",
     "output_type": "stream",
     "text": [
      "Best hyperameter:\n",
      " {'max_depth': 4, 'max_features': 'log2', 'min_samples_leaf': 0.1, 'n_estimators': 300}\n",
      "\n",
      "Test set RMSE of rf: 4.17\n"
     ]
    }
   ],
   "source": [
    "# Tuning Random Forest hyperparamerters\n",
    "from sklearn.ensemble import RandomForestRegressor\n",
    "\n",
    "# Set seed for reproducibility\n",
    "SEED = 1\n",
    "\n",
    "# Instantiate a random forest regressor rf\n",
    "rf =  RandomForestRegressor(random_state = SEED)\n",
    "\n",
    "# Impect rf hyperparams\n",
    "print()\n",
    "print(rf.get_params())\n",
    "print()\n",
    "\n",
    "\n",
    "# Basic Imports\n",
    "from sklearn.metrics import mean_squared_error as MSE\n",
    "from sklearn.model_selection import GridSearchCV\n",
    "\n",
    "# Define a grid of hyperameter params_rf\n",
    "params_rf = {\n",
    "    'n_estimators' : [300,400,500],\n",
    "    'max_depth' : [4,6,8],\n",
    "    'min_samples_leaf' : [0.1, 0.2],\n",
    "    'max_features' : ['log2', 'sqrt']\n",
    "}\n",
    "\n",
    "#Instantiate grid_rf\n",
    "grid_rf = GridSearchCV(estimator = rf, param_grid = params_rf, scoring = 'neg_mean_squared_error', cv=3, n_jobs = -1 ,verbose = 1)\n",
    "\n",
    "grid_rf.fit(X_train, y_train)\n",
    "\n",
    "# Extract best hyperparameters from grid_dt\n",
    "best_hyperparams = grid_rf.best_params_\n",
    "\n",
    "print('Best hyperameter:\\n', best_hyperparams)\n",
    "print()\n",
    "#Extract model from grid_rf\n",
    "best_model = grid_rf.best_estimator_\n",
    "\n",
    "# Predict the test set labels\n",
    "y_pred = best_model.predict(X_test)\n",
    "\n",
    "# Evaluate the test set RMSE\n",
    "rmse_test = MSE(y_test, y_pred)**(1/2)\n",
    "\n",
    "# Print the test set RMSE\n",
    "print('Test set RMSE of rf: {:.2f}'.format(rmse_test))\n"
   ]
  },
  {
   "cell_type": "markdown",
   "metadata": {},
   "source": [
    "\n",
    "###   Indian Liver Patient Dataset \n",
    "\n",
    "Objetive you'll instantiate three classifiers to predict whether a patient suffers from a liver disease using all the features present in the dataset."
   ]
  },
  {
   "cell_type": "code",
   "execution_count": 69,
   "metadata": {},
   "outputs": [],
   "source": [
    "path = \"./datasets/indian_liver_patient_preprocessed.csv\"\n",
    "df_indian = pd.read_csv(path)"
   ]
  },
  {
   "cell_type": "markdown",
   "metadata": {},
   "source": [
    "#### Define the ensemble"
   ]
  },
  {
   "cell_type": "markdown",
   "metadata": {},
   "source": [
    "* Instantiate a Logistic Regression classifier and assign it to lr.\n",
    "\n",
    "* Instantiate a KNN classifier that considers 27 nearest neighbors and assign it to knn.\n",
    "\n",
    "* Instantiate a Decision Tree Classifier with the parameter min_samples_leaf set to 0.13 and assign it to dt."
   ]
  },
  {
   "cell_type": "code",
   "execution_count": 70,
   "metadata": {},
   "outputs": [],
   "source": [
    "#import train_test_split\n",
    "from sklearn.model_selection import train_test_split\n",
    "\n",
    "#import accuracy score\n",
    "from sklearn.metrics import accuracy_score\n",
    "\n",
    "#import models including Voting-Classifier meta-model\n",
    "from sklearn.linear_model import LogisticRegression\n",
    "from sklearn.tree import DecisionTreeClassifier\n",
    "from sklearn.neighbors import KNeighborsClassifier as KNN\n",
    "from sklearn.ensemble import VotingClassifier"
   ]
  },
  {
   "cell_type": "code",
   "execution_count": 71,
   "metadata": {},
   "outputs": [
    {
     "data": {
      "text/plain": [
       "Index(['Unnamed: 0', 'Age_std', 'Total_Bilirubin_std', 'Direct_Bilirubin_std',\n",
       "       'Alkaline_Phosphotase_std', 'Alamine_Aminotransferase_std',\n",
       "       'Aspartate_Aminotransferase_std', 'Total_Protiens_std', 'Albumin_std',\n",
       "       'Albumin_and_Globulin_Ratio_std', 'Is_male_std', 'Liver_disease'],\n",
       "      dtype='object')"
      ]
     },
     "execution_count": 71,
     "metadata": {},
     "output_type": "execute_result"
    }
   ],
   "source": [
    "df_indian.columns"
   ]
  },
  {
   "cell_type": "code",
   "execution_count": 72,
   "metadata": {},
   "outputs": [
    {
     "name": "stdout",
     "output_type": "stream",
     "text": [
      "<class 'pandas.core.frame.DataFrame'>\n",
      "RangeIndex: 579 entries, 0 to 578\n",
      "Data columns (total 12 columns):\n",
      " #   Column                          Non-Null Count  Dtype  \n",
      "---  ------                          --------------  -----  \n",
      " 0   Unnamed: 0                      579 non-null    int64  \n",
      " 1   Age_std                         579 non-null    float64\n",
      " 2   Total_Bilirubin_std             579 non-null    float64\n",
      " 3   Direct_Bilirubin_std            579 non-null    float64\n",
      " 4   Alkaline_Phosphotase_std        579 non-null    float64\n",
      " 5   Alamine_Aminotransferase_std    579 non-null    float64\n",
      " 6   Aspartate_Aminotransferase_std  579 non-null    float64\n",
      " 7   Total_Protiens_std              579 non-null    float64\n",
      " 8   Albumin_std                     579 non-null    float64\n",
      " 9   Albumin_and_Globulin_Ratio_std  579 non-null    float64\n",
      " 10  Is_male_std                     579 non-null    int64  \n",
      " 11  Liver_disease                   579 non-null    int64  \n",
      "dtypes: float64(9), int64(3)\n",
      "memory usage: 54.4 KB\n"
     ]
    }
   ],
   "source": [
    "df_indian.info()"
   ]
  },
  {
   "cell_type": "code",
   "execution_count": 73,
   "metadata": {},
   "outputs": [
    {
     "data": {
      "text/html": [
       "<div>\n",
       "<style scoped>\n",
       "    .dataframe tbody tr th:only-of-type {\n",
       "        vertical-align: middle;\n",
       "    }\n",
       "\n",
       "    .dataframe tbody tr th {\n",
       "        vertical-align: top;\n",
       "    }\n",
       "\n",
       "    .dataframe thead th {\n",
       "        text-align: right;\n",
       "    }\n",
       "</style>\n",
       "<table border=\"1\" class=\"dataframe\">\n",
       "  <thead>\n",
       "    <tr style=\"text-align: right;\">\n",
       "      <th></th>\n",
       "      <th>Unnamed: 0</th>\n",
       "      <th>Age_std</th>\n",
       "      <th>Total_Bilirubin_std</th>\n",
       "      <th>Direct_Bilirubin_std</th>\n",
       "      <th>Alkaline_Phosphotase_std</th>\n",
       "      <th>Alamine_Aminotransferase_std</th>\n",
       "      <th>Aspartate_Aminotransferase_std</th>\n",
       "      <th>Total_Protiens_std</th>\n",
       "      <th>Albumin_std</th>\n",
       "      <th>Albumin_and_Globulin_Ratio_std</th>\n",
       "      <th>Is_male_std</th>\n",
       "      <th>Liver_disease</th>\n",
       "    </tr>\n",
       "  </thead>\n",
       "  <tbody>\n",
       "    <tr>\n",
       "      <th>count</th>\n",
       "      <td>579.000000</td>\n",
       "      <td>5.790000e+02</td>\n",
       "      <td>5.790000e+02</td>\n",
       "      <td>5.790000e+02</td>\n",
       "      <td>5.790000e+02</td>\n",
       "      <td>5.790000e+02</td>\n",
       "      <td>5.790000e+02</td>\n",
       "      <td>5.790000e+02</td>\n",
       "      <td>5.790000e+02</td>\n",
       "      <td>5.790000e+02</td>\n",
       "      <td>579.000000</td>\n",
       "      <td>579.000000</td>\n",
       "    </tr>\n",
       "    <tr>\n",
       "      <th>mean</th>\n",
       "      <td>291.257340</td>\n",
       "      <td>6.040073e-17</td>\n",
       "      <td>-4.630723e-17</td>\n",
       "      <td>1.730529e-16</td>\n",
       "      <td>9.683292e-18</td>\n",
       "      <td>-1.253076e-16</td>\n",
       "      <td>3.163848e-18</td>\n",
       "      <td>9.349650e-16</td>\n",
       "      <td>-1.016266e-16</td>\n",
       "      <td>-1.215685e-16</td>\n",
       "      <td>0.758204</td>\n",
       "      <td>0.715026</td>\n",
       "    </tr>\n",
       "    <tr>\n",
       "      <th>std</th>\n",
       "      <td>168.966657</td>\n",
       "      <td>1.000865e+00</td>\n",
       "      <td>1.000865e+00</td>\n",
       "      <td>1.000865e+00</td>\n",
       "      <td>1.000865e+00</td>\n",
       "      <td>1.000865e+00</td>\n",
       "      <td>1.000865e+00</td>\n",
       "      <td>1.000865e+00</td>\n",
       "      <td>1.000865e+00</td>\n",
       "      <td>1.000865e+00</td>\n",
       "      <td>0.428542</td>\n",
       "      <td>0.451792</td>\n",
       "    </tr>\n",
       "    <tr>\n",
       "      <th>min</th>\n",
       "      <td>0.000000</td>\n",
       "      <td>-2.516224e+00</td>\n",
       "      <td>-4.685332e-01</td>\n",
       "      <td>-4.954142e-01</td>\n",
       "      <td>-9.384212e-01</td>\n",
       "      <td>-3.886149e-01</td>\n",
       "      <td>-3.467356e-01</td>\n",
       "      <td>-3.489599e+00</td>\n",
       "      <td>-2.820182e+00</td>\n",
       "      <td>-2.026406e+00</td>\n",
       "      <td>0.000000</td>\n",
       "      <td>0.000000</td>\n",
       "    </tr>\n",
       "    <tr>\n",
       "      <th>25%</th>\n",
       "      <td>144.500000</td>\n",
       "      <td>-7.269589e-01</td>\n",
       "      <td>-4.042487e-01</td>\n",
       "      <td>-4.598784e-01</td>\n",
       "      <td>-4.761268e-01</td>\n",
       "      <td>-3.175862e-01</td>\n",
       "      <td>-2.949400e-01</td>\n",
       "      <td>-6.290394e-01</td>\n",
       "      <td>-6.784451e-01</td>\n",
       "      <td>-7.737285e-01</td>\n",
       "      <td>1.000000</td>\n",
       "      <td>0.000000</td>\n",
       "    </tr>\n",
       "    <tr>\n",
       "      <th>50%</th>\n",
       "      <td>292.000000</td>\n",
       "      <td>1.342668e-02</td>\n",
       "      <td>-3.721064e-01</td>\n",
       "      <td>-4.243426e-01</td>\n",
       "      <td>-3.425751e-01</td>\n",
       "      <td>-2.520212e-01</td>\n",
       "      <td>-2.362382e-01</td>\n",
       "      <td>1.091695e-01</td>\n",
       "      <td>-4.852253e-02</td>\n",
       "      <td>-5.343892e-02</td>\n",
       "      <td>1.000000</td>\n",
       "      <td>1.000000</td>\n",
       "    </tr>\n",
       "    <tr>\n",
       "      <th>75%</th>\n",
       "      <td>437.500000</td>\n",
       "      <td>8.155111e-01</td>\n",
       "      <td>-1.149683e-01</td>\n",
       "      <td>-6.898483e-02</td>\n",
       "      <td>2.726037e-02</td>\n",
       "      <td>-1.099638e-01</td>\n",
       "      <td>-8.085131e-02</td>\n",
       "      <td>6.628262e-01</td>\n",
       "      <td>8.333690e-01</td>\n",
       "      <td>4.789491e-01</td>\n",
       "      <td>1.000000</td>\n",
       "      <td>1.000000</td>\n",
       "    </tr>\n",
       "    <tr>\n",
       "      <th>max</th>\n",
       "      <td>582.000000</td>\n",
       "      <td>2.789873e+00</td>\n",
       "      <td>1.152053e+01</td>\n",
       "      <td>6.469598e+00</td>\n",
       "      <td>7.473282e+00</td>\n",
       "      <td>1.048424e+01</td>\n",
       "      <td>1.663878e+01</td>\n",
       "      <td>2.877453e+00</td>\n",
       "      <td>2.975106e+00</td>\n",
       "      <td>5.802829e+00</td>\n",
       "      <td>1.000000</td>\n",
       "      <td>1.000000</td>\n",
       "    </tr>\n",
       "  </tbody>\n",
       "</table>\n",
       "</div>"
      ],
      "text/plain": [
       "       Unnamed: 0       Age_std  Total_Bilirubin_std  Direct_Bilirubin_std  \\\n",
       "count  579.000000  5.790000e+02         5.790000e+02          5.790000e+02   \n",
       "mean   291.257340  6.040073e-17        -4.630723e-17          1.730529e-16   \n",
       "std    168.966657  1.000865e+00         1.000865e+00          1.000865e+00   \n",
       "min      0.000000 -2.516224e+00        -4.685332e-01         -4.954142e-01   \n",
       "25%    144.500000 -7.269589e-01        -4.042487e-01         -4.598784e-01   \n",
       "50%    292.000000  1.342668e-02        -3.721064e-01         -4.243426e-01   \n",
       "75%    437.500000  8.155111e-01        -1.149683e-01         -6.898483e-02   \n",
       "max    582.000000  2.789873e+00         1.152053e+01          6.469598e+00   \n",
       "\n",
       "       Alkaline_Phosphotase_std  Alamine_Aminotransferase_std  \\\n",
       "count              5.790000e+02                  5.790000e+02   \n",
       "mean               9.683292e-18                 -1.253076e-16   \n",
       "std                1.000865e+00                  1.000865e+00   \n",
       "min               -9.384212e-01                 -3.886149e-01   \n",
       "25%               -4.761268e-01                 -3.175862e-01   \n",
       "50%               -3.425751e-01                 -2.520212e-01   \n",
       "75%                2.726037e-02                 -1.099638e-01   \n",
       "max                7.473282e+00                  1.048424e+01   \n",
       "\n",
       "       Aspartate_Aminotransferase_std  Total_Protiens_std   Albumin_std  \\\n",
       "count                    5.790000e+02        5.790000e+02  5.790000e+02   \n",
       "mean                     3.163848e-18        9.349650e-16 -1.016266e-16   \n",
       "std                      1.000865e+00        1.000865e+00  1.000865e+00   \n",
       "min                     -3.467356e-01       -3.489599e+00 -2.820182e+00   \n",
       "25%                     -2.949400e-01       -6.290394e-01 -6.784451e-01   \n",
       "50%                     -2.362382e-01        1.091695e-01 -4.852253e-02   \n",
       "75%                     -8.085131e-02        6.628262e-01  8.333690e-01   \n",
       "max                      1.663878e+01        2.877453e+00  2.975106e+00   \n",
       "\n",
       "       Albumin_and_Globulin_Ratio_std  Is_male_std  Liver_disease  \n",
       "count                    5.790000e+02   579.000000     579.000000  \n",
       "mean                    -1.215685e-16     0.758204       0.715026  \n",
       "std                      1.000865e+00     0.428542       0.451792  \n",
       "min                     -2.026406e+00     0.000000       0.000000  \n",
       "25%                     -7.737285e-01     1.000000       0.000000  \n",
       "50%                     -5.343892e-02     1.000000       1.000000  \n",
       "75%                      4.789491e-01     1.000000       1.000000  \n",
       "max                      5.802829e+00     1.000000       1.000000  "
      ]
     },
     "execution_count": 73,
     "metadata": {},
     "output_type": "execute_result"
    }
   ],
   "source": [
    "df_indian.describe()"
   ]
  },
  {
   "cell_type": "code",
   "execution_count": 74,
   "metadata": {},
   "outputs": [],
   "source": [
    "y_indian = df_indian.Liver_disease\n",
    "X_indian = df_indian.drop('Liver_disease', axis = 1)"
   ]
  },
  {
   "cell_type": "code",
   "execution_count": 14,
   "metadata": {},
   "outputs": [
    {
     "data": {
      "text/html": [
       "<div>\n",
       "<style scoped>\n",
       "    .dataframe tbody tr th:only-of-type {\n",
       "        vertical-align: middle;\n",
       "    }\n",
       "\n",
       "    .dataframe tbody tr th {\n",
       "        vertical-align: top;\n",
       "    }\n",
       "\n",
       "    .dataframe thead th {\n",
       "        text-align: right;\n",
       "    }\n",
       "</style>\n",
       "<table border=\"1\" class=\"dataframe\">\n",
       "  <thead>\n",
       "    <tr style=\"text-align: right;\">\n",
       "      <th></th>\n",
       "      <th>Unnamed: 0</th>\n",
       "      <th>Age_std</th>\n",
       "      <th>Total_Bilirubin_std</th>\n",
       "      <th>Direct_Bilirubin_std</th>\n",
       "      <th>Alkaline_Phosphotase_std</th>\n",
       "      <th>Alamine_Aminotransferase_std</th>\n",
       "      <th>Aspartate_Aminotransferase_std</th>\n",
       "      <th>Total_Protiens_std</th>\n",
       "      <th>Albumin_std</th>\n",
       "      <th>Albumin_and_Globulin_Ratio_std</th>\n",
       "      <th>Is_male_std</th>\n",
       "    </tr>\n",
       "  </thead>\n",
       "  <tbody>\n",
       "    <tr>\n",
       "      <th>0</th>\n",
       "      <td>0</td>\n",
       "      <td>1.247403</td>\n",
       "      <td>-0.420320</td>\n",
       "      <td>-0.495414</td>\n",
       "      <td>-0.428870</td>\n",
       "      <td>-0.355832</td>\n",
       "      <td>-0.319111</td>\n",
       "      <td>0.293722</td>\n",
       "      <td>0.203446</td>\n",
       "      <td>-0.147390</td>\n",
       "      <td>0</td>\n",
       "    </tr>\n",
       "    <tr>\n",
       "      <th>1</th>\n",
       "      <td>1</td>\n",
       "      <td>1.062306</td>\n",
       "      <td>1.218936</td>\n",
       "      <td>1.423518</td>\n",
       "      <td>1.675083</td>\n",
       "      <td>-0.093573</td>\n",
       "      <td>-0.035962</td>\n",
       "      <td>0.939655</td>\n",
       "      <td>0.077462</td>\n",
       "      <td>-0.648461</td>\n",
       "      <td>1</td>\n",
       "    </tr>\n",
       "    <tr>\n",
       "      <th>2</th>\n",
       "      <td>2</td>\n",
       "      <td>1.062306</td>\n",
       "      <td>0.640375</td>\n",
       "      <td>0.926017</td>\n",
       "      <td>0.816243</td>\n",
       "      <td>-0.115428</td>\n",
       "      <td>-0.146459</td>\n",
       "      <td>0.478274</td>\n",
       "      <td>0.203446</td>\n",
       "      <td>-0.178707</td>\n",
       "      <td>1</td>\n",
       "    </tr>\n",
       "    <tr>\n",
       "      <th>3</th>\n",
       "      <td>3</td>\n",
       "      <td>0.815511</td>\n",
       "      <td>-0.372106</td>\n",
       "      <td>-0.388807</td>\n",
       "      <td>-0.449416</td>\n",
       "      <td>-0.366760</td>\n",
       "      <td>-0.312205</td>\n",
       "      <td>0.293722</td>\n",
       "      <td>0.329431</td>\n",
       "      <td>0.165780</td>\n",
       "      <td>1</td>\n",
       "    </tr>\n",
       "    <tr>\n",
       "      <th>4</th>\n",
       "      <td>4</td>\n",
       "      <td>1.679294</td>\n",
       "      <td>0.093956</td>\n",
       "      <td>0.179766</td>\n",
       "      <td>-0.395996</td>\n",
       "      <td>-0.295731</td>\n",
       "      <td>-0.177537</td>\n",
       "      <td>0.755102</td>\n",
       "      <td>-0.930414</td>\n",
       "      <td>-1.713237</td>\n",
       "      <td>1</td>\n",
       "    </tr>\n",
       "    <tr>\n",
       "      <th>...</th>\n",
       "      <td>...</td>\n",
       "      <td>...</td>\n",
       "      <td>...</td>\n",
       "      <td>...</td>\n",
       "      <td>...</td>\n",
       "      <td>...</td>\n",
       "      <td>...</td>\n",
       "      <td>...</td>\n",
       "      <td>...</td>\n",
       "      <td>...</td>\n",
       "      <td>...</td>\n",
       "    </tr>\n",
       "    <tr>\n",
       "      <th>574</th>\n",
       "      <td>578</td>\n",
       "      <td>0.938909</td>\n",
       "      <td>-0.452462</td>\n",
       "      <td>-0.495414</td>\n",
       "      <td>0.857336</td>\n",
       "      <td>-0.333977</td>\n",
       "      <td>-0.263863</td>\n",
       "      <td>-0.536763</td>\n",
       "      <td>-1.938290</td>\n",
       "      <td>-1.807188</td>\n",
       "      <td>1</td>\n",
       "    </tr>\n",
       "    <tr>\n",
       "      <th>575</th>\n",
       "      <td>579</td>\n",
       "      <td>-0.295067</td>\n",
       "      <td>-0.436391</td>\n",
       "      <td>-0.495414</td>\n",
       "      <td>-0.794596</td>\n",
       "      <td>-0.252021</td>\n",
       "      <td>-0.274222</td>\n",
       "      <td>-0.444487</td>\n",
       "      <td>0.077462</td>\n",
       "      <td>0.478949</td>\n",
       "      <td>1</td>\n",
       "    </tr>\n",
       "    <tr>\n",
       "      <th>576</th>\n",
       "      <td>580</td>\n",
       "      <td>0.445318</td>\n",
       "      <td>-0.404249</td>\n",
       "      <td>-0.459878</td>\n",
       "      <td>-0.190532</td>\n",
       "      <td>-0.180993</td>\n",
       "      <td>-0.212067</td>\n",
       "      <td>-0.075383</td>\n",
       "      <td>0.077462</td>\n",
       "      <td>0.165780</td>\n",
       "      <td>1</td>\n",
       "    </tr>\n",
       "    <tr>\n",
       "      <th>577</th>\n",
       "      <td>581</td>\n",
       "      <td>-0.850356</td>\n",
       "      <td>-0.323893</td>\n",
       "      <td>-0.353271</td>\n",
       "      <td>-0.441198</td>\n",
       "      <td>-0.284804</td>\n",
       "      <td>-0.270769</td>\n",
       "      <td>0.293722</td>\n",
       "      <td>0.329431</td>\n",
       "      <td>0.165780</td>\n",
       "      <td>1</td>\n",
       "    </tr>\n",
       "    <tr>\n",
       "      <th>578</th>\n",
       "      <td>582</td>\n",
       "      <td>-0.418465</td>\n",
       "      <td>-0.372106</td>\n",
       "      <td>-0.424343</td>\n",
       "      <td>-0.309701</td>\n",
       "      <td>-0.328514</td>\n",
       "      <td>-0.298393</td>\n",
       "      <td>0.755102</td>\n",
       "      <td>1.589276</td>\n",
       "      <td>1.731627</td>\n",
       "      <td>1</td>\n",
       "    </tr>\n",
       "  </tbody>\n",
       "</table>\n",
       "<p>579 rows × 11 columns</p>\n",
       "</div>"
      ],
      "text/plain": [
       "     Unnamed: 0   Age_std  Total_Bilirubin_std  Direct_Bilirubin_std  \\\n",
       "0             0  1.247403            -0.420320             -0.495414   \n",
       "1             1  1.062306             1.218936              1.423518   \n",
       "2             2  1.062306             0.640375              0.926017   \n",
       "3             3  0.815511            -0.372106             -0.388807   \n",
       "4             4  1.679294             0.093956              0.179766   \n",
       "..          ...       ...                  ...                   ...   \n",
       "574         578  0.938909            -0.452462             -0.495414   \n",
       "575         579 -0.295067            -0.436391             -0.495414   \n",
       "576         580  0.445318            -0.404249             -0.459878   \n",
       "577         581 -0.850356            -0.323893             -0.353271   \n",
       "578         582 -0.418465            -0.372106             -0.424343   \n",
       "\n",
       "     Alkaline_Phosphotase_std  Alamine_Aminotransferase_std  \\\n",
       "0                   -0.428870                     -0.355832   \n",
       "1                    1.675083                     -0.093573   \n",
       "2                    0.816243                     -0.115428   \n",
       "3                   -0.449416                     -0.366760   \n",
       "4                   -0.395996                     -0.295731   \n",
       "..                        ...                           ...   \n",
       "574                  0.857336                     -0.333977   \n",
       "575                 -0.794596                     -0.252021   \n",
       "576                 -0.190532                     -0.180993   \n",
       "577                 -0.441198                     -0.284804   \n",
       "578                 -0.309701                     -0.328514   \n",
       "\n",
       "     Aspartate_Aminotransferase_std  Total_Protiens_std  Albumin_std  \\\n",
       "0                         -0.319111            0.293722     0.203446   \n",
       "1                         -0.035962            0.939655     0.077462   \n",
       "2                         -0.146459            0.478274     0.203446   \n",
       "3                         -0.312205            0.293722     0.329431   \n",
       "4                         -0.177537            0.755102    -0.930414   \n",
       "..                              ...                 ...          ...   \n",
       "574                       -0.263863           -0.536763    -1.938290   \n",
       "575                       -0.274222           -0.444487     0.077462   \n",
       "576                       -0.212067           -0.075383     0.077462   \n",
       "577                       -0.270769            0.293722     0.329431   \n",
       "578                       -0.298393            0.755102     1.589276   \n",
       "\n",
       "     Albumin_and_Globulin_Ratio_std  Is_male_std  \n",
       "0                         -0.147390            0  \n",
       "1                         -0.648461            1  \n",
       "2                         -0.178707            1  \n",
       "3                          0.165780            1  \n",
       "4                         -1.713237            1  \n",
       "..                              ...          ...  \n",
       "574                       -1.807188            1  \n",
       "575                        0.478949            1  \n",
       "576                        0.165780            1  \n",
       "577                        0.165780            1  \n",
       "578                        1.731627            1  \n",
       "\n",
       "[579 rows x 11 columns]"
      ]
     },
     "execution_count": 14,
     "metadata": {},
     "output_type": "execute_result"
    }
   ],
   "source": [
    "X_indian"
   ]
  },
  {
   "cell_type": "code",
   "execution_count": 16,
   "metadata": {},
   "outputs": [],
   "source": [
    "# Set seed for reproducibility\n",
    "SEED=1\n",
    "\n",
    "# Instantiate lr\n",
    "lr = LogisticRegression(random_state=SEED)\n",
    "\n",
    "# Instantiate knn\n",
    "knn = KNN(n_neighbors=27)\n",
    "\n",
    "# Instantiate dt\n",
    "dt = DecisionTreeClassifier(min_samples_leaf=0.13, random_state=SEED)\n",
    "\n",
    "# Define the list classifiers\n",
    "classifiers = [('Logistic Regression', lr), ('K Nearest Neighbours', knn), ('Classification Tree', dt)]"
   ]
  },
  {
   "cell_type": "markdown",
   "metadata": {},
   "source": [
    "#### Evaluate individual classifiers"
   ]
  },
  {
   "cell_type": "markdown",
   "metadata": {},
   "source": [
    "* Iterate over the tuples in classifiers. Use clf_name and clf as the for loop variables:\n",
    "    * Fit clf to the training set.\n",
    "    * Predict clf's test set labels and assign the results to y_pred.\n",
    "* Evaluate the test set accuracy of clf and print the result."
   ]
  },
  {
   "cell_type": "code",
   "execution_count": 17,
   "metadata": {},
   "outputs": [],
   "source": [
    "# Import train_test_split from sklearn.model_selection\n",
    "from sklearn.model_selection import train_test_split\n",
    "\n",
    "# Split the data into 70% train and 30% test\n",
    "X_train, X_test, y_train, y_test = train_test_split(X_indian, y_indian, test_size=0.3, random_state=SEED)"
   ]
  },
  {
   "cell_type": "code",
   "execution_count": 18,
   "metadata": {},
   "outputs": [
    {
     "name": "stdout",
     "output_type": "stream",
     "text": [
      "Logistic Regression : 0.764\n",
      "K Nearest Neighbours : 0.724\n",
      "Classification Tree : 0.730\n"
     ]
    },
    {
     "name": "stderr",
     "output_type": "stream",
     "text": [
      "C:\\ProgramData\\Anaconda3\\lib\\site-packages\\sklearn\\linear_model\\_logistic.py:762: ConvergenceWarning: lbfgs failed to converge (status=1):\n",
      "STOP: TOTAL NO. of ITERATIONS REACHED LIMIT.\n",
      "\n",
      "Increase the number of iterations (max_iter) or scale the data as shown in:\n",
      "    https://scikit-learn.org/stable/modules/preprocessing.html\n",
      "Please also refer to the documentation for alternative solver options:\n",
      "    https://scikit-learn.org/stable/modules/linear_model.html#logistic-regression\n",
      "  n_iter_i = _check_optimize_result(\n"
     ]
    }
   ],
   "source": [
    "# Iterate over the pre-defined list of classifiers\n",
    "for clf_name, clf in classifiers:    \n",
    " \n",
    "    # Fit clf to the training set\n",
    "    clf.fit(X_train, y_train)    \n",
    "   \n",
    "    # Predict y_pred\n",
    "    y_pred = clf.predict(X_test)\n",
    "    \n",
    "    # Calculate accuracy\n",
    "    accuracy = accuracy_score(y_test, y_pred) \n",
    "   \n",
    "    # Evaluate clf's accuracy on the test set\n",
    "    print('{:s} : {:.3f}'.format(clf_name, accuracy))"
   ]
  },
  {
   "cell_type": "markdown",
   "metadata": {},
   "source": [
    "Notice how Logistic Regression achieved the highest accuracy of 76.4%."
   ]
  },
  {
   "cell_type": "markdown",
   "metadata": {},
   "source": [
    "#### Better performance with a Voting Classifier"
   ]
  },
  {
   "cell_type": "markdown",
   "metadata": {},
   "source": [
    "* Import VotingClassifier from sklearn.ensemble.\n",
    "* Instantiate a VotingClassifier by setting the parameter estimators to classifiers and assign it to vc.\n",
    "* Fit vc to the training set.\n",
    "* Evaluate vc's test set accuracy using the test set predictions y_pred.\n"
   ]
  },
  {
   "cell_type": "code",
   "execution_count": 19,
   "metadata": {},
   "outputs": [
    {
     "name": "stdout",
     "output_type": "stream",
     "text": [
      "Voting Classifier: 0.764\n"
     ]
    },
    {
     "name": "stderr",
     "output_type": "stream",
     "text": [
      "C:\\ProgramData\\Anaconda3\\lib\\site-packages\\sklearn\\linear_model\\_logistic.py:762: ConvergenceWarning: lbfgs failed to converge (status=1):\n",
      "STOP: TOTAL NO. of ITERATIONS REACHED LIMIT.\n",
      "\n",
      "Increase the number of iterations (max_iter) or scale the data as shown in:\n",
      "    https://scikit-learn.org/stable/modules/preprocessing.html\n",
      "Please also refer to the documentation for alternative solver options:\n",
      "    https://scikit-learn.org/stable/modules/linear_model.html#logistic-regression\n",
      "  n_iter_i = _check_optimize_result(\n"
     ]
    }
   ],
   "source": [
    "# Import VotingClassifier from sklearn.ensemble\n",
    "from sklearn.ensemble import VotingClassifier\n",
    "\n",
    "# Instantiate a VotingClassifier vc\n",
    "vc = VotingClassifier(estimators=classifiers)     \n",
    "\n",
    "# Fit vc to the training set\n",
    "vc.fit(X_train, y_train)   \n",
    "\n",
    "# Evaluate the test set predictions\n",
    "y_pred = vc.predict(X_test)\n",
    "\n",
    "# Calculate accuracy score\n",
    "accuracy = accuracy_score(y_test, y_pred)\n",
    "print('Voting Classifier: {:.3f}'.format(accuracy))"
   ]
  },
  {
   "cell_type": "markdown",
   "metadata": {},
   "source": [
    "#### Define the bagging classifier"
   ]
  },
  {
   "cell_type": "markdown",
   "metadata": {},
   "source": [
    "__Objetive__ Your task is to predict whether a patient suffers from a liver disease using 10 features including Albumin, age and gender. You'll do so using a Bagging Classifier."
   ]
  },
  {
   "cell_type": "markdown",
   "metadata": {},
   "source": [
    "* Import DecisionTreeClassifier from sklearn.tree and BaggingClassifier from sklearn.ensemble.\n",
    "\n",
    "* Instantiate a DecisionTreeClassifier called dt.\n",
    "\n",
    "* Instantiate a BaggingClassifier called bc consisting of 50 trees."
   ]
  },
  {
   "cell_type": "code",
   "execution_count": 20,
   "metadata": {},
   "outputs": [],
   "source": [
    "# Import DecisionTreeClassifier\n",
    "from sklearn.tree import DecisionTreeClassifier\n",
    "\n",
    "# Import BaggingClassifier\n",
    "from sklearn.ensemble import BaggingClassifier\n",
    "\n",
    "# Instantiate dt\n",
    "dt = DecisionTreeClassifier(random_state=1)\n",
    "\n",
    "# Instantiate bc\n",
    "bc = BaggingClassifier(base_estimator=dt, n_estimators=50, random_state=1)"
   ]
  },
  {
   "cell_type": "markdown",
   "metadata": {},
   "source": [
    "#### Evaluate Bagging performance"
   ]
  },
  {
   "cell_type": "code",
   "execution_count": 21,
   "metadata": {},
   "outputs": [
    {
     "name": "stdout",
     "output_type": "stream",
     "text": [
      "Test set accuracy of bc: 0.72\n"
     ]
    }
   ],
   "source": [
    "# Split the data into 70% train and 30% test\n",
    "X_train, X_test, y_train, y_test = train_test_split(X_indian, y_indian, test_size=0.2, random_state=SEED)\n",
    "\n",
    "# Fit bc to the training set\n",
    "bc.fit(X_train, y_train)\n",
    "\n",
    "# Predict test set labels\n",
    "y_pred = bc.predict(X_test)\n",
    "\n",
    "# Evaluate acc_test\n",
    "acc_test = accuracy_score(y_test, y_pred)\n",
    "print('Test set accuracy of bc: {:.2f}'.format(acc_test)) "
   ]
  },
  {
   "cell_type": "markdown",
   "metadata": {},
   "source": [
    "### OOB Evaluation\n",
    "\n",
    "On average for each  model 63% of the training instances are sample\n",
    "The remaining 37% constitute the OOB instances.\n",
    "\n",
    "You can use this intances for model evaluation without use CV-cross validation"
   ]
  },
  {
   "cell_type": "markdown",
   "metadata": {},
   "source": [
    "* Import BaggingClassifier from sklearn.ensemble.\n",
    "\n",
    "* Instantiate a DecisionTreeClassifier with min_samples_leaf set to 8.\n",
    "\n",
    "* Instantiate a BaggingClassifier consisting of 50 trees and set oob_score to True."
   ]
  },
  {
   "cell_type": "code",
   "execution_count": 22,
   "metadata": {},
   "outputs": [],
   "source": [
    "# Import DecisionTreeClassifier\n",
    "from sklearn.tree import DecisionTreeClassifier\n",
    "\n",
    "# Import BaggingClassifier\n",
    "from sklearn.ensemble import BaggingClassifier\n",
    "\n",
    "# Instantiate dt\n",
    "dt = DecisionTreeClassifier(min_samples_leaf=8 ,random_state=1)\n",
    "\n",
    "# Instantiate bc\n",
    "bc = BaggingClassifier(base_estimator=dt, \n",
    "            n_estimators=50,\n",
    "            oob_score=True,\n",
    "            random_state=1)"
   ]
  },
  {
   "cell_type": "markdown",
   "metadata": {},
   "source": [
    "#### OOB Score vs Test Set Score"
   ]
  },
  {
   "cell_type": "code",
   "execution_count": 23,
   "metadata": {},
   "outputs": [
    {
     "name": "stdout",
     "output_type": "stream",
     "text": [
      "Test set accuracy: 0.690, OOB accuracy: 0.676\n"
     ]
    }
   ],
   "source": [
    "#Split data into 70% train and 30% test\n",
    "X_train, X_test, y_train, y_test = train_test_split(X_indian, y_indian, test_size = 0.2 ,random_state = SEED)\n",
    "\n",
    "# Fit bc to the training set \n",
    "bc.fit(X_train, y_train)\n",
    "\n",
    "# Predict test set labels\n",
    "y_pred = bc.predict(X_test)\n",
    "\n",
    "# Evaluate test set accuracy\n",
    "acc_test = accuracy_score(y_test, y_pred)\n",
    "\n",
    "# Evaluate OOB accuracy\n",
    "acc_oob = bc.oob_score_\n",
    "\n",
    "# Print acc_test and acc_oob\n",
    "print('Test set accuracy: {:.3f}, OOB accuracy: {:.3f}'.format(acc_test, acc_oob))\n"
   ]
  },
  {
   "cell_type": "markdown",
   "metadata": {},
   "source": [
    "#### Adabost"
   ]
  },
  {
   "cell_type": "markdown",
   "metadata": {},
   "source": [
    "* Import AdaBoostClassifier from sklearn.ensemble.\n",
    "\n",
    "* Instantiate a DecisionTreeClassifier with max_depth set to 2.\n",
    "\n",
    "* Instantiate an AdaBoostClassifier consisting of 180 trees and setting the base_estimator to dt."
   ]
  },
  {
   "cell_type": "code",
   "execution_count": 24,
   "metadata": {},
   "outputs": [],
   "source": [
    "# Import DecisionTreeClassifier\n",
    "from sklearn.tree import DecisionTreeClassifier\n",
    "\n",
    "# Import AdaBoostClassifier\n",
    "from sklearn.ensemble import AdaBoostClassifier\n",
    "\n",
    "# Instantiate dt\n",
    "dt = DecisionTreeClassifier(max_depth = 2, random_state=1)\n",
    "\n",
    "# Instantiate ada\n",
    "ada = AdaBoostClassifier(base_estimator=dt, n_estimators=180, random_state=1)"
   ]
  },
  {
   "cell_type": "code",
   "execution_count": 25,
   "metadata": {},
   "outputs": [],
   "source": [
    "#Split data into 70% train and 30% test\n",
    "X_train, X_test, y_train, y_test = train_test_split(X_indian, y_indian, test_size = 0.2 ,random_state = SEED)\n"
   ]
  },
  {
   "cell_type": "markdown",
   "metadata": {},
   "source": [
    "* Fit ada to the training set.\n",
    "\n",
    "* Evaluate the probabilities of obtaining the positive class in the test set."
   ]
  },
  {
   "cell_type": "code",
   "execution_count": 26,
   "metadata": {},
   "outputs": [],
   "source": [
    "# Fit ada to the training set\n",
    "ada.fit(X_train, y_train)\n",
    "\n",
    "# Compute the probabilities of obtaining the positive class\n",
    "y_pred_proba = ada.predict_proba(X_test)[:,1]"
   ]
  },
  {
   "cell_type": "markdown",
   "metadata": {},
   "source": [
    "#### Evaluate the AdaBoost classifier"
   ]
  },
  {
   "cell_type": "markdown",
   "metadata": {},
   "source": [
    "* Import roc_auc_score from sklearn.metrics.\n",
    "\n",
    "* Compute ada's test set ROC AUC score, assign it to ada_roc_auc, and print it out."
   ]
  },
  {
   "cell_type": "code",
   "execution_count": 27,
   "metadata": {},
   "outputs": [
    {
     "name": "stdout",
     "output_type": "stream",
     "text": [
      "ROC AUC score: 0.64\n"
     ]
    }
   ],
   "source": [
    "# Import roc_auc_score\n",
    "from sklearn.metrics import roc_auc_score\n",
    "\n",
    "# Evaluate test-set roc_auc_score\n",
    "ada_roc_auc = roc_auc_score(y_test, y_pred_proba )\n",
    "\n",
    "# Print roc_auc_score\n",
    "print('ROC AUC score: {:.2f}'.format(ada_roc_auc))"
   ]
  },
  {
   "cell_type": "code",
   "execution_count": 75,
   "metadata": {},
   "outputs": [],
   "source": [
    "X_train, X_test, y_train, y_test = train_test_split(X_indian, y_indian, test_size = 0.2 ,random_state = SEED)"
   ]
  },
  {
   "cell_type": "code",
   "execution_count": 77,
   "metadata": {},
   "outputs": [
    {
     "name": "stdout",
     "output_type": "stream",
     "text": [
      "{'ccp_alpha': 0.0, 'class_weight': None, 'criterion': 'gini', 'max_depth': None, 'max_features': None, 'max_leaf_nodes': None, 'min_impurity_decrease': 0.0, 'min_impurity_split': None, 'min_samples_leaf': 1, 'min_samples_split': 2, 'min_weight_fraction_leaf': 0.0, 'presort': 'deprecated', 'random_state': 1, 'splitter': 'best'}\n",
      "Test set ROC AUC score: 0.731\n"
     ]
    }
   ],
   "source": [
    "# Import DecisionTreeClassifier\n",
    "from sklearn.tree import DecisionTreeClassifier\n",
    "\n",
    "# Set SEED to 1 for reproducibility\n",
    "SEED = 1\n",
    "\n",
    "# Instantiate a DecisionTreeClassifier dt\n",
    "dt = DecisionTreeClassifier(random_state = SEED)\n",
    "\n",
    "\n",
    "# Print out dt hyperparameters\n",
    "print(dt.get_params())\n",
    "\n",
    "# Import GridSearchCV()\n",
    "from sklearn.model_selection import GridSearchCV\n",
    "\n",
    "# Define the grid of hyperparameters params_dt \n",
    "# Define params_dt\n",
    "params_dt =  {'max_depth':[2,3,4],\n",
    "            'min_samples_leaf': [0.12, 0.14, 0.16, 0.18]}\n",
    "\n",
    "# Instantiate grid_dt\n",
    "grid_dt = GridSearchCV(estimator=dt,\n",
    "                       param_grid=params_dt,\n",
    "                       scoring='roc_auc',\n",
    "                       cv=5,\n",
    "                       n_jobs=-1)\n",
    "\n",
    "grid_dt.fit(X_train, y_train)\n",
    "\n",
    "# Extract best hyperparameters from grid_dt\n",
    "best_hyperparams = grid_dt.best_params_\n",
    "\n",
    "# Import roc_auc_score from sklearn.metrics\n",
    "from sklearn.metrics import roc_auc_score\n",
    "\n",
    "# Extract the best estimator\n",
    "best_model = grid_dt.best_estimator_\n",
    "\n",
    "# Predict the test set probabilities of the positive class\n",
    "y_pred_proba = grid_dt.predict_proba(X_test)[:,1]\n",
    "\n",
    "# Compute test_roc_auc\n",
    "test_roc_auc = roc_auc_score(y_test, y_pred_proba)\n",
    "\n",
    "# Print test_roc_auc\n",
    "print('Test set ROC AUC score: {:.3f}'.format(test_roc_auc))"
   ]
  },
  {
   "cell_type": "markdown",
   "metadata": {},
   "source": [
    "### Analizing Bike Sharing Demand "
   ]
  },
  {
   "cell_type": "markdown",
   "metadata": {},
   "source": [
    "__Objetive__ Predict bike rental demand in the Capital Bikeshare program in Washington, D.C using historical weather data from the Bike Sharing Demand dataset available through Kaggle using the random forests algorithm"
   ]
  },
  {
   "cell_type": "code",
   "execution_count": 47,
   "metadata": {},
   "outputs": [],
   "source": [
    "path = './datasets/bikes.csv'\n",
    "\n",
    "bikes = pd.read_csv(path)"
   ]
  },
  {
   "cell_type": "code",
   "execution_count": 48,
   "metadata": {},
   "outputs": [
    {
     "data": {
      "text/plain": [
       "Index(['hr', 'holiday', 'workingday', 'temp', 'hum', 'windspeed', 'cnt',\n",
       "       'instant', 'mnth', 'yr', 'Clear to partly cloudy',\n",
       "       'Light Precipitation', 'Misty'],\n",
       "      dtype='object')"
      ]
     },
     "execution_count": 48,
     "metadata": {},
     "output_type": "execute_result"
    }
   ],
   "source": [
    "bikes.columns"
   ]
  },
  {
   "cell_type": "code",
   "execution_count": 49,
   "metadata": {},
   "outputs": [
    {
     "data": {
      "text/html": [
       "<div>\n",
       "<style scoped>\n",
       "    .dataframe tbody tr th:only-of-type {\n",
       "        vertical-align: middle;\n",
       "    }\n",
       "\n",
       "    .dataframe tbody tr th {\n",
       "        vertical-align: top;\n",
       "    }\n",
       "\n",
       "    .dataframe thead th {\n",
       "        text-align: right;\n",
       "    }\n",
       "</style>\n",
       "<table border=\"1\" class=\"dataframe\">\n",
       "  <thead>\n",
       "    <tr style=\"text-align: right;\">\n",
       "      <th></th>\n",
       "      <th>hr</th>\n",
       "      <th>holiday</th>\n",
       "      <th>workingday</th>\n",
       "      <th>temp</th>\n",
       "      <th>hum</th>\n",
       "      <th>windspeed</th>\n",
       "      <th>cnt</th>\n",
       "      <th>instant</th>\n",
       "      <th>mnth</th>\n",
       "      <th>yr</th>\n",
       "      <th>Clear to partly cloudy</th>\n",
       "      <th>Light Precipitation</th>\n",
       "      <th>Misty</th>\n",
       "    </tr>\n",
       "  </thead>\n",
       "  <tbody>\n",
       "    <tr>\n",
       "      <th>0</th>\n",
       "      <td>0</td>\n",
       "      <td>0</td>\n",
       "      <td>0</td>\n",
       "      <td>0.76</td>\n",
       "      <td>0.66</td>\n",
       "      <td>0.0000</td>\n",
       "      <td>149</td>\n",
       "      <td>13004</td>\n",
       "      <td>7</td>\n",
       "      <td>1</td>\n",
       "      <td>1</td>\n",
       "      <td>0</td>\n",
       "      <td>0</td>\n",
       "    </tr>\n",
       "    <tr>\n",
       "      <th>1</th>\n",
       "      <td>1</td>\n",
       "      <td>0</td>\n",
       "      <td>0</td>\n",
       "      <td>0.74</td>\n",
       "      <td>0.70</td>\n",
       "      <td>0.1343</td>\n",
       "      <td>93</td>\n",
       "      <td>13005</td>\n",
       "      <td>7</td>\n",
       "      <td>1</td>\n",
       "      <td>1</td>\n",
       "      <td>0</td>\n",
       "      <td>0</td>\n",
       "    </tr>\n",
       "    <tr>\n",
       "      <th>2</th>\n",
       "      <td>2</td>\n",
       "      <td>0</td>\n",
       "      <td>0</td>\n",
       "      <td>0.72</td>\n",
       "      <td>0.74</td>\n",
       "      <td>0.0896</td>\n",
       "      <td>90</td>\n",
       "      <td>13006</td>\n",
       "      <td>7</td>\n",
       "      <td>1</td>\n",
       "      <td>1</td>\n",
       "      <td>0</td>\n",
       "      <td>0</td>\n",
       "    </tr>\n",
       "    <tr>\n",
       "      <th>3</th>\n",
       "      <td>3</td>\n",
       "      <td>0</td>\n",
       "      <td>0</td>\n",
       "      <td>0.72</td>\n",
       "      <td>0.84</td>\n",
       "      <td>0.1343</td>\n",
       "      <td>33</td>\n",
       "      <td>13007</td>\n",
       "      <td>7</td>\n",
       "      <td>1</td>\n",
       "      <td>1</td>\n",
       "      <td>0</td>\n",
       "      <td>0</td>\n",
       "    </tr>\n",
       "    <tr>\n",
       "      <th>4</th>\n",
       "      <td>4</td>\n",
       "      <td>0</td>\n",
       "      <td>0</td>\n",
       "      <td>0.70</td>\n",
       "      <td>0.79</td>\n",
       "      <td>0.1940</td>\n",
       "      <td>4</td>\n",
       "      <td>13008</td>\n",
       "      <td>7</td>\n",
       "      <td>1</td>\n",
       "      <td>1</td>\n",
       "      <td>0</td>\n",
       "      <td>0</td>\n",
       "    </tr>\n",
       "  </tbody>\n",
       "</table>\n",
       "</div>"
      ],
      "text/plain": [
       "   hr  holiday  workingday  temp   hum  windspeed  cnt  instant  mnth  yr  \\\n",
       "0   0        0           0  0.76  0.66     0.0000  149    13004     7   1   \n",
       "1   1        0           0  0.74  0.70     0.1343   93    13005     7   1   \n",
       "2   2        0           0  0.72  0.74     0.0896   90    13006     7   1   \n",
       "3   3        0           0  0.72  0.84     0.1343   33    13007     7   1   \n",
       "4   4        0           0  0.70  0.79     0.1940    4    13008     7   1   \n",
       "\n",
       "   Clear to partly cloudy  Light Precipitation  Misty  \n",
       "0                       1                    0      0  \n",
       "1                       1                    0      0  \n",
       "2                       1                    0      0  \n",
       "3                       1                    0      0  \n",
       "4                       1                    0      0  "
      ]
     },
     "execution_count": 49,
     "metadata": {},
     "output_type": "execute_result"
    }
   ],
   "source": [
    "bikes.head()"
   ]
  },
  {
   "cell_type": "code",
   "execution_count": 50,
   "metadata": {},
   "outputs": [
    {
     "name": "stdout",
     "output_type": "stream",
     "text": [
      "<class 'pandas.core.frame.DataFrame'>\n",
      "RangeIndex: 1488 entries, 0 to 1487\n",
      "Data columns (total 13 columns):\n",
      " #   Column                  Non-Null Count  Dtype  \n",
      "---  ------                  --------------  -----  \n",
      " 0   hr                      1488 non-null   int64  \n",
      " 1   holiday                 1488 non-null   int64  \n",
      " 2   workingday              1488 non-null   int64  \n",
      " 3   temp                    1488 non-null   float64\n",
      " 4   hum                     1488 non-null   float64\n",
      " 5   windspeed               1488 non-null   float64\n",
      " 6   cnt                     1488 non-null   int64  \n",
      " 7   instant                 1488 non-null   int64  \n",
      " 8   mnth                    1488 non-null   int64  \n",
      " 9   yr                      1488 non-null   int64  \n",
      " 10  Clear to partly cloudy  1488 non-null   int64  \n",
      " 11  Light Precipitation     1488 non-null   int64  \n",
      " 12  Misty                   1488 non-null   int64  \n",
      "dtypes: float64(3), int64(10)\n",
      "memory usage: 151.2 KB\n"
     ]
    }
   ],
   "source": [
    "bikes.info()"
   ]
  },
  {
   "cell_type": "code",
   "execution_count": 51,
   "metadata": {},
   "outputs": [
    {
     "data": {
      "text/plain": [
       "hr                        0\n",
       "holiday                   0\n",
       "workingday                0\n",
       "temp                      0\n",
       "hum                       0\n",
       "windspeed                 0\n",
       "cnt                       0\n",
       "instant                   0\n",
       "mnth                      0\n",
       "yr                        0\n",
       "Clear to partly cloudy    0\n",
       "Light Precipitation       0\n",
       "Misty                     0\n",
       "dtype: int64"
      ]
     },
     "execution_count": 51,
     "metadata": {},
     "output_type": "execute_result"
    }
   ],
   "source": [
    "bikes.isna().sum()"
   ]
  },
  {
   "cell_type": "code",
   "execution_count": 52,
   "metadata": {},
   "outputs": [],
   "source": [
    "X_bikes = bikes.drop('cnt', axis = 1)\n",
    "y_bikes = bikes['cnt']"
   ]
  },
  {
   "cell_type": "code",
   "execution_count": 104,
   "metadata": {},
   "outputs": [],
   "source": [
    "#Split data into 70% train and 30% test\n",
    "X_train, X_test, y_train, y_test = train_test_split(X_bikes, y_bikes, test_size = 0.2 ,random_state = SEED)\n"
   ]
  },
  {
   "cell_type": "markdown",
   "metadata": {},
   "source": [
    "* Import RandomForestRegressor from sklearn.ensemble.\n",
    "\n",
    "* Instantiate a RandomForestRegressor called rf consisting of 25 trees.\n",
    "\n",
    "* Fit rf to the training set."
   ]
  },
  {
   "cell_type": "code",
   "execution_count": 105,
   "metadata": {},
   "outputs": [
    {
     "data": {
      "text/plain": [
       "RandomForestRegressor(n_estimators=25, random_state=2)"
      ]
     },
     "execution_count": 105,
     "metadata": {},
     "output_type": "execute_result"
    }
   ],
   "source": [
    "# Import RandomForestRegressor\n",
    "from sklearn.ensemble import RandomForestRegressor\n",
    "\n",
    "# Instantiate rf\n",
    "rf = RandomForestRegressor(n_estimators=25,\n",
    "            random_state=2)\n",
    "            \n",
    "# Fit rf to the training set    \n",
    "rf.fit(X_train, y_train) "
   ]
  },
  {
   "cell_type": "markdown",
   "metadata": {},
   "source": [
    "#### Evaluate the RF regressor\n",
    "\n",
    "* Import mean_squared_error from sklearn.metrics as MSE.\n",
    "* Predict the test set labels and assign the result to y_pred.\n",
    "* Compute the test set RMSE and assign it to rmse_test."
   ]
  },
  {
   "cell_type": "code",
   "execution_count": 106,
   "metadata": {},
   "outputs": [
    {
     "name": "stdout",
     "output_type": "stream",
     "text": [
      "Test set RMSE of rf: 51.84\n"
     ]
    }
   ],
   "source": [
    "# Import mean_squared_error as MSE\n",
    "from sklearn.metrics import mean_squared_error as MSE\n",
    "\n",
    "# Predict the test set labels\n",
    "y_pred = rf.predict(X_test)\n",
    "\n",
    "# Evaluate the test set RMSE\n",
    "rmse_test = MSE(y_test ,y_pred)**(1/2)\n",
    "\n",
    "# Print rmse_test\n",
    "print('Test set RMSE of rf: {:.2f}'.format(rmse_test))"
   ]
  },
  {
   "cell_type": "markdown",
   "metadata": {},
   "source": [
    "#### Visualizing features importances"
   ]
  },
  {
   "cell_type": "markdown",
   "metadata": {},
   "source": [
    "* Call the .sort_values() method on importances and assign the result to importances_sorted.\n",
    "\n",
    "* Call the .plot() method on importances_sorted and set the arguments:\n",
    "\n",
    "    * kind to 'barh'\n",
    "    * color to 'lightgreen'"
   ]
  },
  {
   "cell_type": "code",
   "execution_count": 107,
   "metadata": {},
   "outputs": [
    {
     "data": {
      "image/png": "[encoded data removed]",
      "text/plain": [
       "<Figure size 432x288 with 1 Axes>"
      ]
     },
     "metadata": {},
     "output_type": "display_data"
    }
   ],
   "source": [
    "# Create a pd.Series of features importances\n",
    "importances = pd.Series(data=rf.feature_importances_,\n",
    "                        index= X_train.columns)\n",
    "\n",
    "# Sort importances\n",
    "importances_sorted = importances.sort_values()\n",
    "\n",
    "# Draw a horizontal barplot of importances_sorted\n",
    "importances_sorted.plot(kind='barh', color='lightgreen')\n",
    "plt.title('Features Importances')\n",
    "plt.savefig('bikes.jpg')"
   ]
  },
  {
   "cell_type": "markdown",
   "metadata": {},
   "source": [
    "Apparently, hr and workingday are the most important features according to rf. The importances of these two features add up to more than 90%"
   ]
  },
  {
   "cell_type": "markdown",
   "metadata": {},
   "source": [
    "#### GB regressor"
   ]
  },
  {
   "cell_type": "markdown",
   "metadata": {},
   "source": [
    "* Import GradientBoostingRegressor from sklearn.ensemble.\n",
    "\n",
    "* Instantiate a gradient boosting regressor by setting the parameters:\n",
    "\n",
    "    * max_depth to 4\n",
    "\n",
    "    * n_estimators to 200"
   ]
  },
  {
   "cell_type": "code",
   "execution_count": 109,
   "metadata": {},
   "outputs": [],
   "source": [
    "# Import GradientBoostingRegressor\n",
    "from sklearn.ensemble import GradientBoostingRegressor\n",
    "\n",
    "# Instantiate gb\n",
    "gb = GradientBoostingRegressor(max_depth=4, \n",
    "            n_estimators=200,\n",
    "            random_state=2)"
   ]
  },
  {
   "cell_type": "markdown",
   "metadata": {},
   "source": [
    "#### Train the GB regressor"
   ]
  },
  {
   "cell_type": "markdown",
   "metadata": {},
   "source": [
    "* Fit gb to the training set.\n",
    "* Predict the test set labels and assign the result to y_pred."
   ]
  },
  {
   "cell_type": "code",
   "execution_count": 111,
   "metadata": {},
   "outputs": [],
   "source": [
    "#Split data into 70% train and 30% test\n",
    "X_train, X_test, y_train, y_test = train_test_split(X_bikes, y_bikes, test_size = 0.2 ,random_state = SEED)"
   ]
  },
  {
   "cell_type": "code",
   "execution_count": 112,
   "metadata": {},
   "outputs": [],
   "source": [
    "# Fit gb to the training set\n",
    "gb.fit(X_train, y_train)\n",
    "\n",
    "# Predict test set labels\n",
    "y_pred = gb.predict(X_test)"
   ]
  },
  {
   "cell_type": "markdown",
   "metadata": {},
   "source": [
    "#### Evaluate the GB regressor"
   ]
  },
  {
   "cell_type": "markdown",
   "metadata": {},
   "source": [
    "* Import mean_squared_error from sklearn.metrics as MSE.\n",
    "\n",
    "* Compute the test set MSE and assign it to mse_test.\n",
    "\n",
    "* Compute the test set RMSE and assign it to rmse_test."
   ]
  },
  {
   "cell_type": "code",
   "execution_count": 113,
   "metadata": {},
   "outputs": [
    {
     "name": "stdout",
     "output_type": "stream",
     "text": [
      "Test set RMSE of gb: 43.113\n"
     ]
    }
   ],
   "source": [
    "# Import mean_squared_error as MSE\n",
    "from sklearn.metrics import mean_squared_error as MSE\n",
    "\n",
    "# Compute MSE\n",
    "mse_test = MSE(y_test,y_pred)\n",
    "\n",
    "# Compute RMSE\n",
    "rmse_test = mse_test**(1/2)\n",
    "\n",
    "# Print RMSE\n",
    "print('Test set RMSE of gb: {:.3f}'.format(rmse_test))"
   ]
  },
  {
   "cell_type": "markdown",
   "metadata": {},
   "source": [
    "### Regression with SGB"
   ]
  },
  {
   "cell_type": "markdown",
   "metadata": {},
   "source": [
    "* Instantiate a Stochastic Gradient Boosting Regressor (SGBR) and set:\n",
    "\n",
    "    * max_depth to 4 and n_estimators to 200,\n",
    "\n",
    "    * subsample to 0.9, and\n",
    "\n",
    "    * max_features to 0.75.\n",
    "    \n",
    "* Fit sgbr to the training set.\n",
    "* Predict the test set labels and assign the results to y_pred.\n",
    "\n",
    "* Compute test set MSE and assign the result to mse_test.\n",
    "* Compute test set RMSE and assign the result to rmse_test."
   ]
  },
  {
   "cell_type": "code",
   "execution_count": 57,
   "metadata": {},
   "outputs": [],
   "source": [
    "#Split data into 70% train and 30% test\n",
    "X_train, X_test, y_train, y_test = train_test_split(X_bikes, y_bikes, test_size = 0.2 ,random_state = SEED)"
   ]
  },
  {
   "cell_type": "code",
   "execution_count": 54,
   "metadata": {},
   "outputs": [
    {
     "name": "stdout",
     "output_type": "stream",
     "text": [
      "Test set RMSE of sgbr: 45.143\n"
     ]
    }
   ],
   "source": [
    "# Import GradientBoostingRegressor\n",
    "from sklearn.ensemble import GradientBoostingRegressor\n",
    "\n",
    "# Instantiate sgbr\n",
    "sgbr = GradientBoostingRegressor(max_depth=4, \n",
    "            subsample=0.9,\n",
    "            max_features=0.75,\n",
    "            n_estimators=200,                                \n",
    "            random_state=2)\n",
    "\n",
    "\n",
    "# Fit sbgt to the training set\n",
    "sgbr.fit(X_train, y_train)\n",
    "\n",
    "# Predict the test set labels\n",
    "y_pred = sgbr.predict(X_test)\n",
    "\n",
    "# Import mean_squared_error as MSE\n",
    "from sklearn.metrics import mean_squared_error as MSE\n",
    "\n",
    "# Compute test set MSE\n",
    "mse_test =  MSE(y_test, y_pred)\n",
    "\n",
    "# Compute test set RMSE\n",
    "rmse_test = mse_test**(1/2)\n",
    "\n",
    "# Print rmse_test\n",
    "print('Test set RMSE of sgbr: {:.3f}'.format(rmse_test))"
   ]
  },
  {
   "cell_type": "markdown",
   "metadata": {},
   "source": [
    "#### Tuning a RF Hyperparameters\n"
   ]
  },
  {
   "cell_type": "code",
   "execution_count": 96,
   "metadata": {},
   "outputs": [],
   "source": [
    "#Split data into 70% train and 30% test\n",
    "X_train, X_test, y_train, y_test = train_test_split(X_bikes, y_bikes, test_size = 0.2 ,random_state = SEED)"
   ]
  },
  {
   "cell_type": "code",
   "execution_count": 97,
   "metadata": {},
   "outputs": [
    {
     "name": "stdout",
     "output_type": "stream",
     "text": [
      "\n",
      "{'bootstrap': True, 'ccp_alpha': 0.0, 'criterion': 'mse', 'max_depth': None, 'max_features': 'auto', 'max_leaf_nodes': None, 'max_samples': None, 'min_impurity_decrease': 0.0, 'min_impurity_split': None, 'min_samples_leaf': 1, 'min_samples_split': 2, 'min_weight_fraction_leaf': 0.0, 'n_estimators': 100, 'n_jobs': None, 'oob_score': False, 'random_state': 1, 'verbose': 0, 'warm_start': False}\n",
      "\n",
      "Fitting 3 folds for each of 27 candidates, totalling 81 fits\n"
     ]
    },
    {
     "name": "stderr",
     "output_type": "stream",
     "text": [
      "[Parallel(n_jobs=-1)]: Using backend LokyBackend with 8 concurrent workers.\n",
      "[Parallel(n_jobs=-1)]: Done  34 tasks      | elapsed:   16.4s\n",
      "[Parallel(n_jobs=-1)]: Done  81 out of  81 | elapsed:   22.7s finished\n"
     ]
    },
    {
     "name": "stdout",
     "output_type": "stream",
     "text": [
      "Best hyperameter:\n",
      " {'max_features': 'auto', 'min_samples_leaf': 2, 'n_estimators': 100}\n",
      "\n",
      "Test set RMSE of rf: 51.78\n"
     ]
    }
   ],
   "source": [
    "\n",
    "# Tuning Random Forest hyperparamerters\n",
    "from sklearn.ensemble import RandomForestRegressor\n",
    "\n",
    "# Set seed for reproducibility\n",
    "SEED = 1\n",
    "\n",
    "# Instantiate a random forest regressor rf\n",
    "rf =  RandomForestRegressor(random_state = SEED)\n",
    "\n",
    "# Impect rf hyperparams\n",
    "print()\n",
    "print(rf.get_params())\n",
    "print()\n",
    "\n",
    "\n",
    "# Basic Imports\n",
    "from sklearn.metrics import mean_squared_error as MSE\n",
    "from sklearn.model_selection import GridSearchCV\n",
    "\n",
    "# Define the dictionary 'params_rf'\n",
    "params_rf = {'n_estimators': [100,350,500],\n",
    "'max_features' : ['log2', 'auto', 'sqrt'],\n",
    "'min_samples_leaf' : [2,10,30]}\n",
    "\n",
    "#Instantiate grid_rf\n",
    "grid_rf = GridSearchCV(estimator = rf, param_grid = params_rf, scoring = 'neg_mean_squared_error', cv=3, n_jobs = -1 ,verbose = 1)\n",
    "\n",
    "grid_rf.fit(X_train, y_train)\n",
    "\n",
    "# Extract best hyperparameters from grid_dt\n",
    "best_hyperparams = grid_rf.best_params_\n",
    "\n",
    "print('Best hyperameter:\\n', best_hyperparams)\n",
    "print()\n",
    "#Extract model from grid_rf\n",
    "best_model = grid_rf.best_estimator_\n",
    "\n",
    "# Predict the test set labels\n",
    "y_pred = best_model.predict(X_test)\n",
    "\n",
    "# Evaluate the test set RMSE\n",
    "rmse_test = MSE(y_test, y_pred)**(1/2)\n",
    "\n",
    "# Print the test set RMSE\n",
    "print('Test set RMSE of rf: {:.2f}'.format(rmse_test))\n"
   ]
  },
  {
   "cell_type": "code",
   "execution_count": null,
   "metadata": {},
   "outputs": [],
   "source": [
    "GridSearchCV"
   ]
  }
 ],
 "metadata": {
  "kernelspec": {
   "display_name": "Python 3",
   "language": "python",
   "name": "python3"
  },
  "language_info": {
   "codemirror_mode": {
    "name": "ipython",
    "version": 3
   },
   "file_extension": ".py",
   "mimetype": "text/x-python",
   "name": "python",
   "nbconvert_exporter": "python",
   "pygments_lexer": "ipython3",
   "version": "3.8.5"
  }
 },
 "nbformat": 4,
 "nbformat_minor": 4
}
